{
 "cells": [
  {
   "cell_type": "markdown",
   "metadata": {},
   "source": [
    "## Preprocessing - [run once]"
   ]
  },
  {
   "cell_type": "code",
   "execution_count": null,
   "metadata": {},
   "outputs": [],
   "source": [
    "# WIN\n",
    "!pip install psycopg2 sqlalchemy pandas cloud-sql-python-connector[\"pg8000\"]"
   ]
  },
  {
   "cell_type": "code",
   "execution_count": null,
   "metadata": {},
   "outputs": [],
   "source": [
    "# MAC\n",
    "!pip install psycopg2-binary sqlalchemy pandas \"cloud-sql-python-connector[\"pg8000\"]\""
   ]
  },
  {
   "cell_type": "markdown",
   "metadata": {},
   "source": [
    "**Could SQL Database connection method for further data analysis**"
   ]
  },
  {
   "cell_type": "code",
   "execution_count": null,
   "metadata": {},
   "outputs": [],
   "source": [
    "import os\n",
    "import pandas as pd\n",
    "from google.cloud.sql.connector import Connector\n",
    "from sqlalchemy import create_engine, text\n",
    "\n",
    "# Set the environment variable GOOGLE_APPLICATION_CREDENTIALS to the file path of the JSON file that contains service account key\n",
    "os.environ[\"GOOGLE_APPLICATION_CREDENTIALS\"] = \"north-sea-watch-39a510f80808.json\"\n",
    "\n",
    "# Set the environment variables\n",
    "DB_NAME = os.getenv(\"DB_NAME\", \"ais_data_collection\")\n",
    "DB_USER = os.getenv(\"DB_USER\", \"aoyamaxx\")\n",
    "DB_PASSWORD = os.getenv(\"DB_PASSWORD\", \"aoyamaxx\")\n",
    "INSTANCE_CONNECTION_NAME = \"north-sea-watch:europe-west4:ais-database\"\n",
    "\n",
    "# Create a connection object\n",
    "connector = Connector()\n",
    "\n",
    "# Define a function that returns a connection object\n",
    "def getconn():\n",
    "    conn = connector.connect(\n",
    "        INSTANCE_CONNECTION_NAME,\n",
    "        \"pg8000\",\n",
    "        user=DB_USER,\n",
    "        password=DB_PASSWORD,\n",
    "        db=DB_NAME,\n",
    "    )\n",
    "    return conn\n",
    "\n",
    "# Create an engine object\n",
    "engine = create_engine(\"postgresql+pg8000://\", creator=getconn)"
   ]
  },
  {
   "cell_type": "code",
   "execution_count": null,
   "metadata": {},
   "outputs": [],
   "source": [
    "# Load the ports CSV into a DataFrame\n",
    "ports = pd.read_csv('data/ports.csv')\n",
    "\n",
    "# Load the ships CSV into a DataFrame\n",
    "ships = pd.read_csv('data/ships.csv')\n",
    "\n",
    "# Load ship_data dataset from the database\n",
    "query = \"\"\"\n",
    "SELECT * \n",
    "FROM \"public\".\"ship_data\" \n",
    "WHERE timestamp_collected >= (CURRENT_DATE - INTERVAL '7 days');\n",
    "\"\"\"\n",
    "with engine.connect() as conn:\n",
    "    ship_data = pd.read_sql(text(query), conn)\n",
    "\n",
    "# Display the first few rows of each dataset to verify loading\n",
    "print(\"Ports Dataset:\")\n",
    "print(ports.head())\n",
    "\n",
    "print(\"\\nShips Dataset:\")\n",
    "print(ships.head())\n",
    "\n",
    "print(\"\\nShip Data Dataset:\")\n",
    "print(ship_data.head())\n",
    "\n",
    "# Close the connector\n",
    "connector.close()"
   ]
  },
  {
   "cell_type": "code",
   "execution_count": null,
   "metadata": {},
   "outputs": [],
   "source": [
    "# Merge Datasets\n",
    "\n",
    "# Merge ship_data with ships on imo_number\n",
    "merged_data = pd.merge(ship_data, ships, on='imo_number', how='left')\n",
    "\n",
    "# Display the first few rows of the merged dataset to verify the merge\n",
    "print(\"Merged Dataset (ship_data with ships):\")\n",
    "print(merged_data.head())\n",
    "\n",
    "# If needed, merge the resulting dataset with ports on destination port_name\n",
    "# Assuming destination in ship_data corresponds to port_name in ports\n",
    "ports = ports[['port_id', 'port_name', 'country']]\n",
    "merged_data = pd.merge(merged_data, ports, left_on='destination', right_on='port_name', how='left')\n",
    "\n",
    "# Display the first few rows of the final merged dataset to verify the merge\n",
    "print(\"Final Merged Dataset (with ports):\")\n",
    "merged_data.head()"
   ]
  },
  {
   "cell_type": "code",
   "execution_count": null,
   "metadata": {},
   "outputs": [],
   "source": [
    "# save dataset so i don't have to run the code again (it took 20 mins just to read in the data from the database)\n",
    "merged_data.to_parquet(\"data/nort_sea_data.parquet\", engine=\"pyarrow\", index=False) "
   ]
  },
  {
   "cell_type": "markdown",
   "metadata": {},
   "source": [
    "## EDA - start here"
   ]
  },
  {
   "cell_type": "code",
   "execution_count": 1,
   "metadata": {},
   "outputs": [],
   "source": [
    "# import statements\n",
    "import pandas as pd"
   ]
  },
  {
   "cell_type": "code",
   "execution_count": 2,
   "metadata": {},
   "outputs": [],
   "source": [
    "# read data\n",
    "merged_data = pd.read_parquet('data/nort_sea_data.parquet')"
   ]
  },
  {
   "cell_type": "code",
   "execution_count": 3,
   "metadata": {},
   "outputs": [
    {
     "name": "stderr",
     "output_type": "stream",
     "text": [
      "/var/folders/hd/mlvd77cj3kj7hwvxj8799rtr0000gn/T/ipykernel_96266/2863518010.py:4: FutureWarning: Downcasting object dtype arrays on .fillna, .ffill, .bfill is deprecated and will change in a future version. Call result.infer_objects(copy=False) instead. To opt-in to the future behavior, set `pd.set_option('future.no_silent_downcasting', True)`\n",
      "  merged_data.fillna({\n"
     ]
    }
   ],
   "source": [
    "# Data Cleaning and Transformation\n",
    "\n",
    "# Handle missing values by filling or dropping them\n",
    "merged_data.fillna({\n",
    "    'destination': 'Unknown',\n",
    "    'sog': 0,\n",
    "    'cog': 0,\n",
    "    'navigational_status': 'Unknown',\n",
    "    'rate_of_turn': 0,\n",
    "    'port_name': 'Unknown',\n",
    "    'country': 'Unknown',\n",
    "    'latitude_y': 0,\n",
    "    'longitude_y': 0\n",
    "}, inplace=True)"
   ]
  },
  {
   "cell_type": "code",
   "execution_count": 4,
   "metadata": {},
   "outputs": [
    {
     "name": "stdout",
     "output_type": "stream",
     "text": [
      "Cleaned and Transformed Dataset (North Sea region):\n"
     ]
    },
    {
     "data": {
      "application/vnd.microsoft.datawrangler.viewer.v0+json": {
       "columns": [
        {
         "name": "index",
         "rawType": "int64",
         "type": "integer"
        },
        {
         "name": "id",
         "rawType": "int64",
         "type": "integer"
        },
        {
         "name": "imo_number",
         "rawType": "int64",
         "type": "integer"
        },
        {
         "name": "timestamp_collected",
         "rawType": "datetime64[ns]",
         "type": "datetime"
        },
        {
         "name": "timestamp_ais",
         "rawType": "datetime64[ns]",
         "type": "datetime"
        },
        {
         "name": "latitude",
         "rawType": "float64",
         "type": "float"
        },
        {
         "name": "longitude",
         "rawType": "float64",
         "type": "float"
        },
        {
         "name": "destination",
         "rawType": "object",
         "type": "string"
        },
        {
         "name": "sog",
         "rawType": "int64",
         "type": "integer"
        },
        {
         "name": "cog",
         "rawType": "int64",
         "type": "integer"
        },
        {
         "name": "navigational_status",
         "rawType": "object",
         "type": "string"
        },
        {
         "name": "rate_of_turn",
         "rawType": "int64",
         "type": "integer"
        },
        {
         "name": "mmsi",
         "rawType": "float64",
         "type": "float"
        },
        {
         "name": "name",
         "rawType": "object",
         "type": "string"
        },
        {
         "name": "ship_type",
         "rawType": "float64",
         "type": "float"
        },
        {
         "name": "length",
         "rawType": "float64",
         "type": "float"
        },
        {
         "name": "width",
         "rawType": "float64",
         "type": "float"
        },
        {
         "name": "max_draught",
         "rawType": "float64",
         "type": "float"
        },
        {
         "name": "type_name",
         "rawType": "object",
         "type": "string"
        },
        {
         "name": "type_remark",
         "rawType": "object",
         "type": "unknown"
        },
        {
         "name": "port_id",
         "rawType": "float64",
         "type": "float"
        },
        {
         "name": "port_name",
         "rawType": "object",
         "type": "string"
        },
        {
         "name": "country",
         "rawType": "object",
         "type": "string"
        }
       ],
       "conversionMethod": "pd.DataFrame",
       "ref": "760f8601-e96c-4887-978e-b77f5b292e52",
       "rows": [
        [
         "1",
         "9206951",
         "9989596",
         "2025-03-15 13:30:32.411853",
         "2025-03-15 13:30:32.400390",
         "53.518722",
         "-3.219193",
         "DREDING OPS LIVERPOL",
         "0",
         "0",
         "Unknown",
         "0",
         "244264000.0",
         "RHONE               ",
         "33.0",
         "14.0",
         "30.0",
         "2.0",
         "Dredging or underwater ops",
         null,
         null,
         "Unknown",
         "Unknown"
        ],
        [
         "2",
         "9206952",
         "9082219",
         "2025-03-15 13:30:32.424672",
         "2025-03-15 13:30:32.413294",
         "53.869093",
         "8.707358",
         "PATROL              ",
         "0",
         "0",
         "Unknown",
         "0",
         "211225300.0",
         "BAUMROENNE          ",
         "55.0",
         "13.0",
         "14.0",
         "1.4",
         "Law Enforcement",
         null,
         null,
         "Unknown",
         "Unknown"
        ],
        [
         "3",
         "9206953",
         "1076082",
         "2025-03-15 13:30:32.517449",
         "2025-03-15 13:30:32.506276",
         "51.507435",
         "0.00685",
         "",
         "0",
         "0",
         "Unknown",
         "0",
         "232059441.0",
         "ORBIT CLIPPER       ",
         "0.0",
         "12.0",
         "12.0",
         "0.0",
         "Not available (default)",
         null,
         null,
         "Unknown",
         "Unknown"
        ],
        [
         "4",
         "9206954",
         "9882607",
         "2025-03-15 13:30:32.608735",
         "2025-03-15 13:30:32.598254",
         "59.61168",
         "5.24283",
         "NORSKEKYSTEN",
         "0",
         "0",
         "Unknown",
         "0",
         "257090830.0",
         "TAUMAR",
         "99.0",
         "10.0",
         "18.0",
         "4.8",
         "Other Type",
         "No additional information",
         null,
         "Unknown",
         "Unknown"
        ],
        [
         "5",
         "9206955",
         "9581526",
         "2025-03-15 13:30:32.660477",
         "2025-03-15 13:30:32.647526",
         "51.226662",
         "2.93509",
         "OOSTENDE            ",
         "0",
         "0",
         "Unknown",
         "0",
         "205595000.0",
         "ZEETIJGER           ",
         "52.0",
         "15.0",
         "15.0",
         "3.3",
         "Tug",
         null,
         null,
         "Unknown",
         "Unknown"
        ]
       ],
       "shape": {
        "columns": 22,
        "rows": 5
       }
      },
      "text/html": [
       "<div>\n",
       "<style scoped>\n",
       "    .dataframe tbody tr th:only-of-type {\n",
       "        vertical-align: middle;\n",
       "    }\n",
       "\n",
       "    .dataframe tbody tr th {\n",
       "        vertical-align: top;\n",
       "    }\n",
       "\n",
       "    .dataframe thead th {\n",
       "        text-align: right;\n",
       "    }\n",
       "</style>\n",
       "<table border=\"1\" class=\"dataframe\">\n",
       "  <thead>\n",
       "    <tr style=\"text-align: right;\">\n",
       "      <th></th>\n",
       "      <th>id</th>\n",
       "      <th>imo_number</th>\n",
       "      <th>timestamp_collected</th>\n",
       "      <th>timestamp_ais</th>\n",
       "      <th>latitude</th>\n",
       "      <th>longitude</th>\n",
       "      <th>destination</th>\n",
       "      <th>sog</th>\n",
       "      <th>cog</th>\n",
       "      <th>navigational_status</th>\n",
       "      <th>...</th>\n",
       "      <th>name</th>\n",
       "      <th>ship_type</th>\n",
       "      <th>length</th>\n",
       "      <th>width</th>\n",
       "      <th>max_draught</th>\n",
       "      <th>type_name</th>\n",
       "      <th>type_remark</th>\n",
       "      <th>port_id</th>\n",
       "      <th>port_name</th>\n",
       "      <th>country</th>\n",
       "    </tr>\n",
       "  </thead>\n",
       "  <tbody>\n",
       "    <tr>\n",
       "      <th>1</th>\n",
       "      <td>9206951</td>\n",
       "      <td>9989596</td>\n",
       "      <td>2025-03-15 13:30:32.411853</td>\n",
       "      <td>2025-03-15 13:30:32.400390</td>\n",
       "      <td>53.518722</td>\n",
       "      <td>-3.219193</td>\n",
       "      <td>DREDING OPS LIVERPOL</td>\n",
       "      <td>0</td>\n",
       "      <td>0</td>\n",
       "      <td>Unknown</td>\n",
       "      <td>...</td>\n",
       "      <td>RHONE</td>\n",
       "      <td>33.0</td>\n",
       "      <td>14.0</td>\n",
       "      <td>30.0</td>\n",
       "      <td>2.0</td>\n",
       "      <td>Dredging or underwater ops</td>\n",
       "      <td>None</td>\n",
       "      <td>NaN</td>\n",
       "      <td>Unknown</td>\n",
       "      <td>Unknown</td>\n",
       "    </tr>\n",
       "    <tr>\n",
       "      <th>2</th>\n",
       "      <td>9206952</td>\n",
       "      <td>9082219</td>\n",
       "      <td>2025-03-15 13:30:32.424672</td>\n",
       "      <td>2025-03-15 13:30:32.413294</td>\n",
       "      <td>53.869093</td>\n",
       "      <td>8.707358</td>\n",
       "      <td>PATROL</td>\n",
       "      <td>0</td>\n",
       "      <td>0</td>\n",
       "      <td>Unknown</td>\n",
       "      <td>...</td>\n",
       "      <td>BAUMROENNE</td>\n",
       "      <td>55.0</td>\n",
       "      <td>13.0</td>\n",
       "      <td>14.0</td>\n",
       "      <td>1.4</td>\n",
       "      <td>Law Enforcement</td>\n",
       "      <td>None</td>\n",
       "      <td>NaN</td>\n",
       "      <td>Unknown</td>\n",
       "      <td>Unknown</td>\n",
       "    </tr>\n",
       "    <tr>\n",
       "      <th>3</th>\n",
       "      <td>9206953</td>\n",
       "      <td>1076082</td>\n",
       "      <td>2025-03-15 13:30:32.517449</td>\n",
       "      <td>2025-03-15 13:30:32.506276</td>\n",
       "      <td>51.507435</td>\n",
       "      <td>0.006850</td>\n",
       "      <td></td>\n",
       "      <td>0</td>\n",
       "      <td>0</td>\n",
       "      <td>Unknown</td>\n",
       "      <td>...</td>\n",
       "      <td>ORBIT CLIPPER</td>\n",
       "      <td>0.0</td>\n",
       "      <td>12.0</td>\n",
       "      <td>12.0</td>\n",
       "      <td>0.0</td>\n",
       "      <td>Not available (default)</td>\n",
       "      <td>None</td>\n",
       "      <td>NaN</td>\n",
       "      <td>Unknown</td>\n",
       "      <td>Unknown</td>\n",
       "    </tr>\n",
       "    <tr>\n",
       "      <th>4</th>\n",
       "      <td>9206954</td>\n",
       "      <td>9882607</td>\n",
       "      <td>2025-03-15 13:30:32.608735</td>\n",
       "      <td>2025-03-15 13:30:32.598254</td>\n",
       "      <td>59.611680</td>\n",
       "      <td>5.242830</td>\n",
       "      <td>NORSKEKYSTEN</td>\n",
       "      <td>0</td>\n",
       "      <td>0</td>\n",
       "      <td>Unknown</td>\n",
       "      <td>...</td>\n",
       "      <td>TAUMAR</td>\n",
       "      <td>99.0</td>\n",
       "      <td>10.0</td>\n",
       "      <td>18.0</td>\n",
       "      <td>4.8</td>\n",
       "      <td>Other Type</td>\n",
       "      <td>No additional information</td>\n",
       "      <td>NaN</td>\n",
       "      <td>Unknown</td>\n",
       "      <td>Unknown</td>\n",
       "    </tr>\n",
       "    <tr>\n",
       "      <th>5</th>\n",
       "      <td>9206955</td>\n",
       "      <td>9581526</td>\n",
       "      <td>2025-03-15 13:30:32.660477</td>\n",
       "      <td>2025-03-15 13:30:32.647526</td>\n",
       "      <td>51.226662</td>\n",
       "      <td>2.935090</td>\n",
       "      <td>OOSTENDE</td>\n",
       "      <td>0</td>\n",
       "      <td>0</td>\n",
       "      <td>Unknown</td>\n",
       "      <td>...</td>\n",
       "      <td>ZEETIJGER</td>\n",
       "      <td>52.0</td>\n",
       "      <td>15.0</td>\n",
       "      <td>15.0</td>\n",
       "      <td>3.3</td>\n",
       "      <td>Tug</td>\n",
       "      <td>None</td>\n",
       "      <td>NaN</td>\n",
       "      <td>Unknown</td>\n",
       "      <td>Unknown</td>\n",
       "    </tr>\n",
       "  </tbody>\n",
       "</table>\n",
       "<p>5 rows × 22 columns</p>\n",
       "</div>"
      ],
      "text/plain": [
       "        id  imo_number        timestamp_collected              timestamp_ais  \\\n",
       "1  9206951     9989596 2025-03-15 13:30:32.411853 2025-03-15 13:30:32.400390   \n",
       "2  9206952     9082219 2025-03-15 13:30:32.424672 2025-03-15 13:30:32.413294   \n",
       "3  9206953     1076082 2025-03-15 13:30:32.517449 2025-03-15 13:30:32.506276   \n",
       "4  9206954     9882607 2025-03-15 13:30:32.608735 2025-03-15 13:30:32.598254   \n",
       "5  9206955     9581526 2025-03-15 13:30:32.660477 2025-03-15 13:30:32.647526   \n",
       "\n",
       "    latitude  longitude           destination  sog  cog navigational_status  \\\n",
       "1  53.518722  -3.219193  DREDING OPS LIVERPOL    0    0             Unknown   \n",
       "2  53.869093   8.707358  PATROL                  0    0             Unknown   \n",
       "3  51.507435   0.006850                          0    0             Unknown   \n",
       "4  59.611680   5.242830          NORSKEKYSTEN    0    0             Unknown   \n",
       "5  51.226662   2.935090  OOSTENDE                0    0             Unknown   \n",
       "\n",
       "   ...                  name  ship_type length  width  max_draught  \\\n",
       "1  ...  RHONE                      33.0   14.0   30.0          2.0   \n",
       "2  ...  BAUMROENNE                 55.0   13.0   14.0          1.4   \n",
       "3  ...  ORBIT CLIPPER               0.0   12.0   12.0          0.0   \n",
       "4  ...                TAUMAR       99.0   10.0   18.0          4.8   \n",
       "5  ...  ZEETIJGER                  52.0   15.0   15.0          3.3   \n",
       "\n",
       "                    type_name                type_remark port_id port_name  \\\n",
       "1  Dredging or underwater ops                       None     NaN   Unknown   \n",
       "2             Law Enforcement                       None     NaN   Unknown   \n",
       "3     Not available (default)                       None     NaN   Unknown   \n",
       "4                  Other Type  No additional information     NaN   Unknown   \n",
       "5                         Tug                       None     NaN   Unknown   \n",
       "\n",
       "   country  \n",
       "1  Unknown  \n",
       "2  Unknown  \n",
       "3  Unknown  \n",
       "4  Unknown  \n",
       "5  Unknown  \n",
       "\n",
       "[5 rows x 22 columns]"
      ]
     },
     "execution_count": 4,
     "metadata": {},
     "output_type": "execute_result"
    }
   ],
   "source": [
    "north_sea_bbox = {\n",
    "    'min_latitude': 51.0,\n",
    "    'max_latitude': 61.0,\n",
    "    'min_longitude': -4.0,\n",
    "    'max_longitude': 9.0\n",
    "}\n",
    "\n",
    "# Filter the dataset to include only data within the North Sea region\n",
    "north_sea_data = merged_data[\n",
    "    (merged_data['latitude'] >= north_sea_bbox['min_latitude']) &\n",
    "    (merged_data['latitude'] <= north_sea_bbox['max_latitude']) &\n",
    "    (merged_data['longitude'] >= north_sea_bbox['min_longitude']) &\n",
    "    (merged_data['longitude'] <= north_sea_bbox['max_longitude'])\n",
    "]\n",
    "\n",
    "# Display the first few rows of the cleaned and transformed dataset\n",
    "print(\"Cleaned and Transformed Dataset (North Sea region):\")\n",
    "north_sea_data.head()"
   ]
  },
  {
   "cell_type": "code",
   "execution_count": 5,
   "metadata": {},
   "outputs": [
    {
     "data": {
      "text/plain": [
       "(200339260, 242651310)"
      ]
     },
     "execution_count": 5,
     "metadata": {},
     "output_type": "execute_result"
    }
   ],
   "source": [
    "north_sea_data.size, merged_data.size"
   ]
  },
  {
   "cell_type": "code",
   "execution_count": 6,
   "metadata": {},
   "outputs": [],
   "source": [
    "ship_categories = pd.read_csv('data/ship_type_codes.csv')"
   ]
  },
  {
   "cell_type": "code",
   "execution_count": 7,
   "metadata": {},
   "outputs": [
    {
     "name": "stdout",
     "output_type": "stream",
     "text": [
      "Updated Dataset with Categorical Ship Types:\n"
     ]
    },
    {
     "data": {
      "application/vnd.microsoft.datawrangler.viewer.v0+json": {
       "columns": [
        {
         "name": "index",
         "rawType": "int64",
         "type": "integer"
        },
        {
         "name": "id",
         "rawType": "int64",
         "type": "integer"
        },
        {
         "name": "imo_number",
         "rawType": "int64",
         "type": "integer"
        },
        {
         "name": "timestamp_collected",
         "rawType": "datetime64[ns]",
         "type": "datetime"
        },
        {
         "name": "timestamp_ais",
         "rawType": "datetime64[ns]",
         "type": "datetime"
        },
        {
         "name": "latitude",
         "rawType": "float64",
         "type": "float"
        },
        {
         "name": "longitude",
         "rawType": "float64",
         "type": "float"
        },
        {
         "name": "destination",
         "rawType": "object",
         "type": "string"
        },
        {
         "name": "sog",
         "rawType": "int64",
         "type": "integer"
        },
        {
         "name": "cog",
         "rawType": "int64",
         "type": "integer"
        },
        {
         "name": "navigational_status",
         "rawType": "object",
         "type": "string"
        },
        {
         "name": "rate_of_turn",
         "rawType": "int64",
         "type": "integer"
        },
        {
         "name": "mmsi",
         "rawType": "float64",
         "type": "float"
        },
        {
         "name": "name",
         "rawType": "object",
         "type": "unknown"
        },
        {
         "name": "length",
         "rawType": "float64",
         "type": "float"
        },
        {
         "name": "width",
         "rawType": "float64",
         "type": "float"
        },
        {
         "name": "max_draught",
         "rawType": "float64",
         "type": "float"
        },
        {
         "name": "type_name",
         "rawType": "object",
         "type": "unknown"
        },
        {
         "name": "type_remark",
         "rawType": "object",
         "type": "unknown"
        },
        {
         "name": "port_id",
         "rawType": "float64",
         "type": "float"
        },
        {
         "name": "port_name",
         "rawType": "object",
         "type": "string"
        },
        {
         "name": "country",
         "rawType": "object",
         "type": "string"
        },
        {
         "name": "ship_type",
         "rawType": "object",
         "type": "unknown"
        },
        {
         "name": "remark",
         "rawType": "object",
         "type": "unknown"
        }
       ],
       "conversionMethod": "pd.DataFrame",
       "ref": "99e10afa-d9fe-44c1-a892-148781591148",
       "rows": [
        [
         "0",
         "9206950",
         "8200321",
         "2025-03-15 13:30:32.320382",
         "2025-03-15 13:30:32.310020",
         "54.370215",
         "10.15585",
         "KIEL                ",
         "0",
         "0",
         "Unknown",
         "0",
         null,
         null,
         null,
         null,
         null,
         null,
         null,
         null,
         "Unknown",
         "Unknown",
         null,
         null
        ],
        [
         "1",
         "9206951",
         "9989596",
         "2025-03-15 13:30:32.411853",
         "2025-03-15 13:30:32.400390",
         "53.518722",
         "-3.219193",
         "DREDING OPS LIVERPOL",
         "0",
         "0",
         "Unknown",
         "0",
         "244264000.0",
         "RHONE               ",
         "14.0",
         "30.0",
         "2.0",
         "Dredging or underwater ops",
         null,
         null,
         "Unknown",
         "Unknown",
         "Dredging or underwater ops",
         null
        ],
        [
         "2",
         "9206952",
         "9082219",
         "2025-03-15 13:30:32.424672",
         "2025-03-15 13:30:32.413294",
         "53.869093",
         "8.707358",
         "PATROL              ",
         "0",
         "0",
         "Unknown",
         "0",
         "211225300.0",
         "BAUMROENNE          ",
         "13.0",
         "14.0",
         "1.4",
         "Law Enforcement",
         null,
         null,
         "Unknown",
         "Unknown",
         "Law Enforcement",
         null
        ],
        [
         "3",
         "9206953",
         "1076082",
         "2025-03-15 13:30:32.517449",
         "2025-03-15 13:30:32.506276",
         "51.507435",
         "0.00685",
         "",
         "0",
         "0",
         "Unknown",
         "0",
         "232059441.0",
         "ORBIT CLIPPER       ",
         "12.0",
         "12.0",
         "0.0",
         "Not available (default)",
         null,
         null,
         "Unknown",
         "Unknown",
         "Not available (default)",
         null
        ],
        [
         "4",
         "9206954",
         "9882607",
         "2025-03-15 13:30:32.608735",
         "2025-03-15 13:30:32.598254",
         "59.61168",
         "5.24283",
         "NORSKEKYSTEN",
         "0",
         "0",
         "Unknown",
         "0",
         "257090830.0",
         "TAUMAR",
         "10.0",
         "18.0",
         "4.8",
         "Other Type",
         "No additional information",
         null,
         "Unknown",
         "Unknown",
         "Other Type",
         "No additional information"
        ]
       ],
       "shape": {
        "columns": 23,
        "rows": 5
       }
      },
      "text/html": [
       "<div>\n",
       "<style scoped>\n",
       "    .dataframe tbody tr th:only-of-type {\n",
       "        vertical-align: middle;\n",
       "    }\n",
       "\n",
       "    .dataframe tbody tr th {\n",
       "        vertical-align: top;\n",
       "    }\n",
       "\n",
       "    .dataframe thead th {\n",
       "        text-align: right;\n",
       "    }\n",
       "</style>\n",
       "<table border=\"1\" class=\"dataframe\">\n",
       "  <thead>\n",
       "    <tr style=\"text-align: right;\">\n",
       "      <th></th>\n",
       "      <th>id</th>\n",
       "      <th>imo_number</th>\n",
       "      <th>timestamp_collected</th>\n",
       "      <th>timestamp_ais</th>\n",
       "      <th>latitude</th>\n",
       "      <th>longitude</th>\n",
       "      <th>destination</th>\n",
       "      <th>sog</th>\n",
       "      <th>cog</th>\n",
       "      <th>navigational_status</th>\n",
       "      <th>...</th>\n",
       "      <th>length</th>\n",
       "      <th>width</th>\n",
       "      <th>max_draught</th>\n",
       "      <th>type_name</th>\n",
       "      <th>type_remark</th>\n",
       "      <th>port_id</th>\n",
       "      <th>port_name</th>\n",
       "      <th>country</th>\n",
       "      <th>ship_type</th>\n",
       "      <th>remark</th>\n",
       "    </tr>\n",
       "  </thead>\n",
       "  <tbody>\n",
       "    <tr>\n",
       "      <th>0</th>\n",
       "      <td>9206950</td>\n",
       "      <td>8200321</td>\n",
       "      <td>2025-03-15 13:30:32.320382</td>\n",
       "      <td>2025-03-15 13:30:32.310020</td>\n",
       "      <td>54.370215</td>\n",
       "      <td>10.155850</td>\n",
       "      <td>KIEL</td>\n",
       "      <td>0</td>\n",
       "      <td>0</td>\n",
       "      <td>Unknown</td>\n",
       "      <td>...</td>\n",
       "      <td>NaN</td>\n",
       "      <td>NaN</td>\n",
       "      <td>NaN</td>\n",
       "      <td>None</td>\n",
       "      <td>None</td>\n",
       "      <td>NaN</td>\n",
       "      <td>Unknown</td>\n",
       "      <td>Unknown</td>\n",
       "      <td>NaN</td>\n",
       "      <td>NaN</td>\n",
       "    </tr>\n",
       "    <tr>\n",
       "      <th>1</th>\n",
       "      <td>9206951</td>\n",
       "      <td>9989596</td>\n",
       "      <td>2025-03-15 13:30:32.411853</td>\n",
       "      <td>2025-03-15 13:30:32.400390</td>\n",
       "      <td>53.518722</td>\n",
       "      <td>-3.219193</td>\n",
       "      <td>DREDING OPS LIVERPOL</td>\n",
       "      <td>0</td>\n",
       "      <td>0</td>\n",
       "      <td>Unknown</td>\n",
       "      <td>...</td>\n",
       "      <td>14.0</td>\n",
       "      <td>30.0</td>\n",
       "      <td>2.0</td>\n",
       "      <td>Dredging or underwater ops</td>\n",
       "      <td>None</td>\n",
       "      <td>NaN</td>\n",
       "      <td>Unknown</td>\n",
       "      <td>Unknown</td>\n",
       "      <td>Dredging or underwater ops</td>\n",
       "      <td>NaN</td>\n",
       "    </tr>\n",
       "    <tr>\n",
       "      <th>2</th>\n",
       "      <td>9206952</td>\n",
       "      <td>9082219</td>\n",
       "      <td>2025-03-15 13:30:32.424672</td>\n",
       "      <td>2025-03-15 13:30:32.413294</td>\n",
       "      <td>53.869093</td>\n",
       "      <td>8.707358</td>\n",
       "      <td>PATROL</td>\n",
       "      <td>0</td>\n",
       "      <td>0</td>\n",
       "      <td>Unknown</td>\n",
       "      <td>...</td>\n",
       "      <td>13.0</td>\n",
       "      <td>14.0</td>\n",
       "      <td>1.4</td>\n",
       "      <td>Law Enforcement</td>\n",
       "      <td>None</td>\n",
       "      <td>NaN</td>\n",
       "      <td>Unknown</td>\n",
       "      <td>Unknown</td>\n",
       "      <td>Law Enforcement</td>\n",
       "      <td>NaN</td>\n",
       "    </tr>\n",
       "    <tr>\n",
       "      <th>3</th>\n",
       "      <td>9206953</td>\n",
       "      <td>1076082</td>\n",
       "      <td>2025-03-15 13:30:32.517449</td>\n",
       "      <td>2025-03-15 13:30:32.506276</td>\n",
       "      <td>51.507435</td>\n",
       "      <td>0.006850</td>\n",
       "      <td></td>\n",
       "      <td>0</td>\n",
       "      <td>0</td>\n",
       "      <td>Unknown</td>\n",
       "      <td>...</td>\n",
       "      <td>12.0</td>\n",
       "      <td>12.0</td>\n",
       "      <td>0.0</td>\n",
       "      <td>Not available (default)</td>\n",
       "      <td>None</td>\n",
       "      <td>NaN</td>\n",
       "      <td>Unknown</td>\n",
       "      <td>Unknown</td>\n",
       "      <td>Not available (default)</td>\n",
       "      <td>NaN</td>\n",
       "    </tr>\n",
       "    <tr>\n",
       "      <th>4</th>\n",
       "      <td>9206954</td>\n",
       "      <td>9882607</td>\n",
       "      <td>2025-03-15 13:30:32.608735</td>\n",
       "      <td>2025-03-15 13:30:32.598254</td>\n",
       "      <td>59.611680</td>\n",
       "      <td>5.242830</td>\n",
       "      <td>NORSKEKYSTEN</td>\n",
       "      <td>0</td>\n",
       "      <td>0</td>\n",
       "      <td>Unknown</td>\n",
       "      <td>...</td>\n",
       "      <td>10.0</td>\n",
       "      <td>18.0</td>\n",
       "      <td>4.8</td>\n",
       "      <td>Other Type</td>\n",
       "      <td>No additional information</td>\n",
       "      <td>NaN</td>\n",
       "      <td>Unknown</td>\n",
       "      <td>Unknown</td>\n",
       "      <td>Other Type</td>\n",
       "      <td>No additional information</td>\n",
       "    </tr>\n",
       "  </tbody>\n",
       "</table>\n",
       "<p>5 rows × 23 columns</p>\n",
       "</div>"
      ],
      "text/plain": [
       "        id  imo_number        timestamp_collected              timestamp_ais  \\\n",
       "0  9206950     8200321 2025-03-15 13:30:32.320382 2025-03-15 13:30:32.310020   \n",
       "1  9206951     9989596 2025-03-15 13:30:32.411853 2025-03-15 13:30:32.400390   \n",
       "2  9206952     9082219 2025-03-15 13:30:32.424672 2025-03-15 13:30:32.413294   \n",
       "3  9206953     1076082 2025-03-15 13:30:32.517449 2025-03-15 13:30:32.506276   \n",
       "4  9206954     9882607 2025-03-15 13:30:32.608735 2025-03-15 13:30:32.598254   \n",
       "\n",
       "    latitude  longitude           destination  sog  cog navigational_status  \\\n",
       "0  54.370215  10.155850  KIEL                    0    0             Unknown   \n",
       "1  53.518722  -3.219193  DREDING OPS LIVERPOL    0    0             Unknown   \n",
       "2  53.869093   8.707358  PATROL                  0    0             Unknown   \n",
       "3  51.507435   0.006850                          0    0             Unknown   \n",
       "4  59.611680   5.242830          NORSKEKYSTEN    0    0             Unknown   \n",
       "\n",
       "   ...  length  width max_draught                   type_name  \\\n",
       "0  ...     NaN    NaN         NaN                        None   \n",
       "1  ...    14.0   30.0         2.0  Dredging or underwater ops   \n",
       "2  ...    13.0   14.0         1.4             Law Enforcement   \n",
       "3  ...    12.0   12.0         0.0     Not available (default)   \n",
       "4  ...    10.0   18.0         4.8                  Other Type   \n",
       "\n",
       "                 type_remark  port_id port_name  country  \\\n",
       "0                       None      NaN   Unknown  Unknown   \n",
       "1                       None      NaN   Unknown  Unknown   \n",
       "2                       None      NaN   Unknown  Unknown   \n",
       "3                       None      NaN   Unknown  Unknown   \n",
       "4  No additional information      NaN   Unknown  Unknown   \n",
       "\n",
       "                    ship_type                     remark  \n",
       "0                         NaN                        NaN  \n",
       "1  Dredging or underwater ops                        NaN  \n",
       "2             Law Enforcement                        NaN  \n",
       "3     Not available (default)                        NaN  \n",
       "4                  Other Type  No additional information  \n",
       "\n",
       "[5 rows x 23 columns]"
      ]
     },
     "execution_count": 7,
     "metadata": {},
     "output_type": "execute_result"
    }
   ],
   "source": [
    "# Merge merged_data with ship_categories on ship_type and type_code\n",
    "merged_data = pd.merge(merged_data, ship_categories, left_on='ship_type', right_on='type_code', how='left')\n",
    "\n",
    "# Drop the original ship_type and type_code columns and rename the type column to ship_type\n",
    "merged_data.drop(columns=['ship_type', 'type_code'], inplace=True)\n",
    "merged_data.rename(columns={'type': 'ship_type'}, inplace=True)\n",
    "\n",
    "# Display the first few rows of the updated dataset to verify the conversion\n",
    "print(\"Updated Dataset with Categorical Ship Types:\")\n",
    "merged_data.head()"
   ]
  },
  {
   "cell_type": "code",
   "execution_count": 8,
   "metadata": {},
   "outputs": [
    {
     "name": "stdout",
     "output_type": "stream",
     "text": [
      "Unique IMO Data:\n"
     ]
    },
    {
     "data": {
      "image/png": "[encoded data removed]",
      "text/plain": [
       "<Figure size 1200x800 with 1 Axes>"
      ]
     },
     "metadata": {},
     "output_type": "display_data"
    }
   ],
   "source": [
    "import seaborn as sns\n",
    "\n",
    "import matplotlib.pyplot as plt\n",
    "\n",
    "# Set the style for seaborn\n",
    "sns.set_theme(style=\"whitegrid\")\n",
    "\n",
    "# Count the number of occurrences of each ship type\n",
    "# Remove duplicates based on imo_number, keeping the first occurrence\n",
    "unique_imo_data = merged_data.drop_duplicates(subset='imo_number', keep='first')\n",
    "\n",
    "# Verify the result\n",
    "print(\"Unique IMO Data:\")\n",
    "\n",
    "ship_type_counts = unique_imo_data['ship_type'].value_counts()\n",
    "top_10_ship_types = ship_type_counts.head(10)\n",
    "# Plot the distribution of ship types as a bar chart\n",
    "plt.figure(figsize=(12, 8))\n",
    "sns.barplot(x=top_10_ship_types, y=top_10_ship_types.index, hue=top_10_ship_types, legend=False)\n",
    "plt.title('Distribution of Ship Types')\n",
    "plt.xlabel('Ship Type')\n",
    "plt.ylabel('Count')\n",
    "plt.xticks(rotation=45)\n",
    "plt.show()"
   ]
  },
  {
   "cell_type": "code",
   "execution_count": 9,
   "metadata": {},
   "outputs": [
    {
     "data": {
      "text/plain": [
       "1           9989596\n",
       "2           9082219\n",
       "3           1076082\n",
       "4           9882607\n",
       "5           9581526\n",
       "             ...   \n",
       "11029599    9102629\n",
       "11029600    9815484\n",
       "11029601    9662978\n",
       "11029602    9465136\n",
       "11029603    9579420\n",
       "Name: imo_number, Length: 9106330, dtype: int64"
      ]
     },
     "execution_count": 9,
     "metadata": {},
     "output_type": "execute_result"
    }
   ],
   "source": [
    "north_sea_data['imo_number']"
   ]
  },
  {
   "cell_type": "code",
   "execution_count": 10,
   "metadata": {},
   "outputs": [
    {
     "data": {
      "image/png": "[encoded data removed]",
      "text/plain": [
       "<Figure size 1400x800 with 1 Axes>"
      ]
     },
     "metadata": {},
     "output_type": "display_data"
    }
   ],
   "source": [
    "# Group the dataset by timestamp_collected to count the number of ships over time\n",
    "ship_counts_over_time = north_sea_data.groupby([north_sea_data['timestamp_collected'].dt.date, 'imo_number']).size().groupby('timestamp_collected').size()\n",
    "\n",
    "# Convert the PeriodIndex to a datetime index for plotting\n",
    "ship_counts_over_time.index = pd.to_datetime(ship_counts_over_time.index)\n",
    "\n",
    "# Plot the number of ships over time as a time series plot\n",
    "plt.figure(figsize=(14, 8))\n",
    "plt.plot(ship_counts_over_time.index, ship_counts_over_time.values, marker='o', linestyle='-')\n",
    "plt.title('Number of Ships Over Time in the North Sea')\n",
    "plt.xlabel('Time')\n",
    "plt.ylabel('Number of Ships')\n",
    "plt.grid(True)\n",
    "plt.show()"
   ]
  },
  {
   "cell_type": "code",
   "execution_count": 11,
   "metadata": {},
   "outputs": [
    {
     "name": "stderr",
     "output_type": "stream",
     "text": [
      "/var/folders/hd/mlvd77cj3kj7hwvxj8799rtr0000gn/T/ipykernel_96266/2737414168.py:42: SettingWithCopyWarning: \n",
      "A value is trying to be set on a copy of a slice from a DataFrame.\n",
      "Try using .loc[row_indexer,col_indexer] = value instead\n",
      "\n",
      "See the caveats in the documentation: https://pandas.pydata.org/pandas-docs/stable/user_guide/indexing.html#returning-a-view-versus-a-copy\n",
      "  unique_imo_data['destination'] = unique_imo_data['destination'].str.strip()                                   # Remove leading/trailing whitespaces\n",
      "/var/folders/hd/mlvd77cj3kj7hwvxj8799rtr0000gn/T/ipykernel_96266/2737414168.py:43: SettingWithCopyWarning: \n",
      "A value is trying to be set on a copy of a slice from a DataFrame.\n",
      "Try using .loc[row_indexer,col_indexer] = value instead\n",
      "\n",
      "See the caveats in the documentation: https://pandas.pydata.org/pandas-docs/stable/user_guide/indexing.html#returning-a-view-versus-a-copy\n",
      "  unique_imo_data['destination'] = unique_imo_data['destination'].str.upper()                                     # Uppercase all letters\n",
      "/var/folders/hd/mlvd77cj3kj7hwvxj8799rtr0000gn/T/ipykernel_96266/2737414168.py:44: SettingWithCopyWarning: \n",
      "A value is trying to be set on a copy of a slice from a DataFrame.\n",
      "Try using .loc[row_indexer,col_indexer] = value instead\n",
      "\n",
      "See the caveats in the documentation: https://pandas.pydata.org/pandas-docs/stable/user_guide/indexing.html#returning-a-view-versus-a-copy\n",
      "  unique_imo_data['destination'] = unique_imo_data['destination'].str.replace(r'\\s+', '', regex=True)              # Remove all spaces\n",
      "/var/folders/hd/mlvd77cj3kj7hwvxj8799rtr0000gn/T/ipykernel_96266/2737414168.py:45: SettingWithCopyWarning: \n",
      "A value is trying to be set on a copy of a slice from a DataFrame.\n",
      "Try using .loc[row_indexer,col_indexer] = value instead\n",
      "\n",
      "See the caveats in the documentation: https://pandas.pydata.org/pandas-docs/stable/user_guide/indexing.html#returning-a-view-versus-a-copy\n",
      "  unique_imo_data['destination'] = unique_imo_data['destination'].str.replace(r'[^A-Z0-9]', '', regex=True)         # Remove special characters\n",
      "/var/folders/hd/mlvd77cj3kj7hwvxj8799rtr0000gn/T/ipykernel_96266/2737414168.py:48: SettingWithCopyWarning: \n",
      "A value is trying to be set on a copy of a slice from a DataFrame.\n",
      "Try using .loc[row_indexer,col_indexer] = value instead\n",
      "\n",
      "See the caveats in the documentation: https://pandas.pydata.org/pandas-docs/stable/user_guide/indexing.html#returning-a-view-versus-a-copy\n",
      "  unique_imo_data['destination'] = unique_imo_data['destination'].replace(port_mapping)\n",
      "/var/folders/hd/mlvd77cj3kj7hwvxj8799rtr0000gn/T/ipykernel_96266/2737414168.py:56: SettingWithCopyWarning: \n",
      "A value is trying to be set on a copy of a slice from a DataFrame.\n",
      "Try using .loc[row_indexer,col_indexer] = value instead\n",
      "\n",
      "See the caveats in the documentation: https://pandas.pydata.org/pandas-docs/stable/user_guide/indexing.html#returning-a-view-versus-a-copy\n",
      "  unique_imo_data['destination'] = unique_imo_data['destination'].str.replace(pattern, replacement, regex=True)\n",
      "/var/folders/hd/mlvd77cj3kj7hwvxj8799rtr0000gn/T/ipykernel_96266/2737414168.py:54: SettingWithCopyWarning: \n",
      "A value is trying to be set on a copy of a slice from a DataFrame.\n",
      "Try using .loc[row_indexer,col_indexer] = value instead\n",
      "\n",
      "See the caveats in the documentation: https://pandas.pydata.org/pandas-docs/stable/user_guide/indexing.html#returning-a-view-versus-a-copy\n",
      "  unique_imo_data['destination'] = unique_imo_data['destination'].str.replace(pattern, '', regex=True)\n",
      "/var/folders/hd/mlvd77cj3kj7hwvxj8799rtr0000gn/T/ipykernel_96266/2737414168.py:59: SettingWithCopyWarning: \n",
      "A value is trying to be set on a copy of a slice from a DataFrame.\n",
      "Try using .loc[row_indexer,col_indexer] = value instead\n",
      "\n",
      "See the caveats in the documentation: https://pandas.pydata.org/pandas-docs/stable/user_guide/indexing.html#returning-a-view-versus-a-copy\n",
      "  unique_imo_data['destination'] = unique_imo_data['destination'].replace('', np.nan)\n"
     ]
    }
   ],
   "source": [
    "import numpy as np\n",
    "\n",
    "# Mapping dictionary for port abbreviations to full names\n",
    "port_mapping = {\n",
    "    'NLRTM': 'ROTTERDAM',  # Correct abbreviation for Rotterdam\n",
    "    'NLAMS': 'AMSTERDAM',\n",
    "    'NLVLI': 'VLISSINGEN',\n",
    "    'BEANR': 'ANTWERP'\n",
    "}\n",
    "\n",
    "# Regex-based correction rules for various inconsistencies\n",
    "corrections = {\n",
    "    # Rotterdam corrections:\n",
    "    r'^ROT+EDAM$': 'ROTTERDAM',         # \"ROTTEDAM\", \"ROTEDAM\", etc.\n",
    "    r'^NLROTTERDAM$': 'ROTTERDAM',       # Leading abbreviation variant\n",
    "    r'^ROTTERDAM.*$': 'ROTTERDAM',       # Any ROTTERDAM with extras concatenated\n",
    "\n",
    "    # Amsterdam corrections:\n",
    "    r'^AMS$': 'AMSTERDAM',              # Short form\n",
    "    r'^AMSTERD[A-Z]*$': 'AMSTERDAM',     # Variants starting with AMSTERD\n",
    "\n",
    "    # Vlissingen corrections:\n",
    "    r'^VLISS?INGEN$': 'VLISSINGEN',\n",
    "\n",
    "    # Liverpool corrections:\n",
    "    r'^LIVERPOOLTUGOPS$': 'LIVERPOOL',\n",
    "\n",
    "    # Harbour corrections:\n",
    "    r'^HARBOURTOWAGE$': 'HARBOURTUG',\n",
    "\n",
    "    # Fishing grounds corrections:\n",
    "    r'^FISHINGGROUNDS?$': 'FISHING',\n",
    "\n",
    "    # Ostende corrections:\n",
    "    r'^0OSTENDE$': 'OOSTENDE',\n",
    "\n",
    "    # Replace a single \"0\" with NaN later\n",
    "    r'^0$': np.nan\n",
    "}\n",
    "\n",
    "# Clean and standardize the 'destination' column\n",
    "unique_imo_data['destination'] = unique_imo_data['destination'].str.strip()                                   # Remove leading/trailing whitespaces\n",
    "unique_imo_data['destination'] = unique_imo_data['destination'].str.upper()                                     # Uppercase all letters\n",
    "unique_imo_data['destination'] = unique_imo_data['destination'].str.replace(r'\\s+', '', regex=True)              # Remove all spaces\n",
    "unique_imo_data['destination'] = unique_imo_data['destination'].str.replace(r'[^A-Z0-9]', '', regex=True)         # Remove special characters\n",
    "\n",
    "# Replace abbreviations with full port names using the mapping\n",
    "unique_imo_data['destination'] = unique_imo_data['destination'].replace(port_mapping)\n",
    "\n",
    "# Apply regex correction rules for common misspellings and concatenated tokens\n",
    "for pattern, replacement in corrections.items():\n",
    "    if not isinstance(replacement, str):\n",
    "        # Replace with an empty string then convert empty strings to NaN later\n",
    "        unique_imo_data['destination'] = unique_imo_data['destination'].str.replace(pattern, '', regex=True)\n",
    "    else:\n",
    "        unique_imo_data['destination'] = unique_imo_data['destination'].str.replace(pattern, replacement, regex=True)\n",
    "\n",
    "# Convert empty strings to NaN\n",
    "unique_imo_data['destination'] = unique_imo_data['destination'].replace('', np.nan)"
   ]
  },
  {
   "cell_type": "code",
   "execution_count": 12,
   "metadata": {},
   "outputs": [
    {
     "data": {
      "image/png": "[encoded data removed]",
      "text/plain": [
       "<Figure size 1200x800 with 1 Axes>"
      ]
     },
     "metadata": {},
     "output_type": "display_data"
    }
   ],
   "source": [
    "# Count the number of occurrences of each destination port\n",
    "destination_counts = unique_imo_data['destination'].value_counts().head(10)  # Top 10 most popular destination ports\n",
    "\n",
    "# Plot the most popular destination ports as a bar chart\n",
    "plt.figure(figsize=(12, 8))\n",
    "sns.barplot(x=destination_counts.values, y=destination_counts.index, hue=destination_counts.index, legend=False)\n",
    "plt.title('Most Popular Destination Ports in the North Sea')\n",
    "plt.xlabel('Number of Ships')\n",
    "plt.ylabel('Destination Port')\n",
    "plt.show()"
   ]
  },
  {
   "cell_type": "code",
   "execution_count": 29,
   "metadata": {},
   "outputs": [
    {
     "data": {
      "image/png": "[encoded data removed]",
      "text/plain": [
       "<Figure size 1200x800 with 1 Axes>"
      ]
     },
     "metadata": {},
     "output_type": "display_data"
    }
   ],
   "source": [
    "import matplotlib.pyplot as plt\n",
    "import cartopy.crs as ccrs\n",
    "import cartopy.feature as cfeature\n",
    "\n",
    "# Filter tanker and cargo ships separately and sample them\n",
    "tankers = north_sea_data[north_sea_data['type_name'] == 'Tanker']\n",
    "cargoes = north_sea_data[north_sea_data['type_name'] == 'Cargo']\n",
    "\n",
    "sampled_tankers = tankers.sample(frac=0.18, random_state=42)\n",
    "sampled_cargoes = cargoes.sample(frac=0.13, random_state=42)\n",
    "\n",
    "scrubber_ships = pd.concat([sampled_tankers, sampled_cargoes])\n",
    "non_scrubber_ships = north_sea_data[~north_sea_data['type_name'].isin(['Tanker', 'Cargo'])]\n",
    "\n",
    "# Create the figure and add a map projection\n",
    "plt.figure(figsize=(12, 8))\n",
    "ax = plt.axes(projection=ccrs.PlateCarree())  # Use PlateCarree for lat/lon\n",
    "\n",
    "# Add coastlines and land features\n",
    "ax.add_feature(cfeature.COASTLINE, linewidth=1)\n",
    "ax.add_feature(cfeature.LAND, color='lightgray')\n",
    "\n",
    "# Plot ship positions\n",
    "plt.scatter(non_scrubber_fitted['longitude'], non_scrubber_fitted['latitude'], alpha=0.5, c='blue', s=5, label='Non-Scrubber Ships', transform=ccrs.PlateCarree())\n",
    "plt.scatter(scrubber_fitted['longitude'], scrubber_fitted['latitude'], alpha=0.5, c='red', s=5, label='Scrubber-Fitted Ships', transform=ccrs.PlateCarree())\n",
    "\n",
    "\n",
    "# Labels\n",
    "plt.title('Ship Positions in the North Sea')\n",
    "plt.xlabel('Longitude')\n",
    "plt.ylabel('Latitude')\n",
    "plt.legend()\n",
    "\n",
    "# Show the plot\n",
    "plt.show()"
   ]
  },
  {
   "cell_type": "code",
   "execution_count": 17,
   "metadata": {},
   "outputs": [
    {
     "name": "stdout",
     "output_type": "stream",
     "text": [
      "Collecting plotly\n",
      "  Using cached plotly-6.0.1-py3-none-any.whl.metadata (6.7 kB)\n",
      "Collecting narwhals>=1.15.1 (from plotly)\n",
      "  Using cached narwhals-1.36.0-py3-none-any.whl.metadata (9.2 kB)\n",
      "Requirement already satisfied: packaging in /opt/miniconda3/lib/python3.12/site-packages (from plotly) (24.1)\n",
      "Using cached plotly-6.0.1-py3-none-any.whl (14.8 MB)\n",
      "Using cached narwhals-1.36.0-py3-none-any.whl (331 kB)\n",
      "Installing collected packages: narwhals, plotly\n",
      "  Attempting uninstall: narwhals\n",
      "    Found existing installation: narwhals 1.8.2\n",
      "    Uninstalling narwhals-1.8.2:\n",
      "      Successfully uninstalled narwhals-1.8.2\n",
      "Successfully installed narwhals-1.36.0 plotly-6.0.1\n",
      "Note: you may need to restart the kernel to use updated packages.\n"
     ]
    }
   ],
   "source": [
    "pip install plotly"
   ]
  },
  {
   "cell_type": "code",
   "execution_count": 22,
   "metadata": {},
   "outputs": [
    {
     "data": {
      "application/vnd.plotly.v1+json": {
       "config": {
        "plotlyServerURL": "https://plot.ly"
       },
       "data": [
        {
         "link": {
          "source": [
           0,
           0,
           0,
           0,
           0,
           4,
           2,
           2,
           2,
           2,
           2,
           1,
           1,
           1,
           1,
           1,
           3,
           3,
           3,
           3,
           3
          ],
          "target": [
           7,
           6,
           8,
           5,
           9,
           9,
           7,
           6,
           8,
           5,
           9,
           7,
           6,
           8,
           5,
           9,
           7,
           6,
           8,
           5,
           9
          ],
          "value": [
           46,
           129,
           69,
           162,
           40,
           5,
           5,
           3,
           1,
           22,
           11,
           35,
           89,
           11,
           167,
           13,
           4,
           6,
           7,
           36,
           2
          ]
         },
         "node": {
          "label": [
           "Cargo",
           "Tanker",
           "Other Type",
           "Tug",
           "Fishing",
           "ROTTERDAM",
           "ANTWERP",
           "AMSTERDAM",
           "DEHAM",
           "VLISSINGEN"
          ],
          "line": {
           "color": "black",
           "width": 0.5
          },
          "pad": 15,
          "thickness": 20
         },
         "type": "sankey"
        }
       ],
       "layout": {
        "font": {
         "size": 10
        },
        "template": {
         "data": {
          "bar": [
           {
            "error_x": {
             "color": "#2a3f5f"
            },
            "error_y": {
             "color": "#2a3f5f"
            },
            "marker": {
             "line": {
              "color": "#E5ECF6",
              "width": 0.5
             },
             "pattern": {
              "fillmode": "overlay",
              "size": 10,
              "solidity": 0.2
             }
            },
            "type": "bar"
           }
          ],
          "barpolar": [
           {
            "marker": {
             "line": {
              "color": "#E5ECF6",
              "width": 0.5
             },
             "pattern": {
              "fillmode": "overlay",
              "size": 10,
              "solidity": 0.2
             }
            },
            "type": "barpolar"
           }
          ],
          "carpet": [
           {
            "aaxis": {
             "endlinecolor": "#2a3f5f",
             "gridcolor": "white",
             "linecolor": "white",
             "minorgridcolor": "white",
             "startlinecolor": "#2a3f5f"
            },
            "baxis": {
             "endlinecolor": "#2a3f5f",
             "gridcolor": "white",
             "linecolor": "white",
             "minorgridcolor": "white",
             "startlinecolor": "#2a3f5f"
            },
            "type": "carpet"
           }
          ],
          "choropleth": [
           {
            "colorbar": {
             "outlinewidth": 0,
             "ticks": ""
            },
            "type": "choropleth"
           }
          ],
          "contour": [
           {
            "colorbar": {
             "outlinewidth": 0,
             "ticks": ""
            },
            "colorscale": [
             [
              0,
              "#0d0887"
             ],
             [
              0.1111111111111111,
              "#46039f"
             ],
             [
              0.2222222222222222,
              "#7201a8"
             ],
             [
              0.3333333333333333,
              "#9c179e"
             ],
             [
              0.4444444444444444,
              "#bd3786"
             ],
             [
              0.5555555555555556,
              "#d8576b"
             ],
             [
              0.6666666666666666,
              "#ed7953"
             ],
             [
              0.7777777777777778,
              "#fb9f3a"
             ],
             [
              0.8888888888888888,
              "#fdca26"
             ],
             [
              1,
              "#f0f921"
             ]
            ],
            "type": "contour"
           }
          ],
          "contourcarpet": [
           {
            "colorbar": {
             "outlinewidth": 0,
             "ticks": ""
            },
            "type": "contourcarpet"
           }
          ],
          "heatmap": [
           {
            "colorbar": {
             "outlinewidth": 0,
             "ticks": ""
            },
            "colorscale": [
             [
              0,
              "#0d0887"
             ],
             [
              0.1111111111111111,
              "#46039f"
             ],
             [
              0.2222222222222222,
              "#7201a8"
             ],
             [
              0.3333333333333333,
              "#9c179e"
             ],
             [
              0.4444444444444444,
              "#bd3786"
             ],
             [
              0.5555555555555556,
              "#d8576b"
             ],
             [
              0.6666666666666666,
              "#ed7953"
             ],
             [
              0.7777777777777778,
              "#fb9f3a"
             ],
             [
              0.8888888888888888,
              "#fdca26"
             ],
             [
              1,
              "#f0f921"
             ]
            ],
            "type": "heatmap"
           }
          ],
          "histogram": [
           {
            "marker": {
             "pattern": {
              "fillmode": "overlay",
              "size": 10,
              "solidity": 0.2
             }
            },
            "type": "histogram"
           }
          ],
          "histogram2d": [
           {
            "colorbar": {
             "outlinewidth": 0,
             "ticks": ""
            },
            "colorscale": [
             [
              0,
              "#0d0887"
             ],
             [
              0.1111111111111111,
              "#46039f"
             ],
             [
              0.2222222222222222,
              "#7201a8"
             ],
             [
              0.3333333333333333,
              "#9c179e"
             ],
             [
              0.4444444444444444,
              "#bd3786"
             ],
             [
              0.5555555555555556,
              "#d8576b"
             ],
             [
              0.6666666666666666,
              "#ed7953"
             ],
             [
              0.7777777777777778,
              "#fb9f3a"
             ],
             [
              0.8888888888888888,
              "#fdca26"
             ],
             [
              1,
              "#f0f921"
             ]
            ],
            "type": "histogram2d"
           }
          ],
          "histogram2dcontour": [
           {
            "colorbar": {
             "outlinewidth": 0,
             "ticks": ""
            },
            "colorscale": [
             [
              0,
              "#0d0887"
             ],
             [
              0.1111111111111111,
              "#46039f"
             ],
             [
              0.2222222222222222,
              "#7201a8"
             ],
             [
              0.3333333333333333,
              "#9c179e"
             ],
             [
              0.4444444444444444,
              "#bd3786"
             ],
             [
              0.5555555555555556,
              "#d8576b"
             ],
             [
              0.6666666666666666,
              "#ed7953"
             ],
             [
              0.7777777777777778,
              "#fb9f3a"
             ],
             [
              0.8888888888888888,
              "#fdca26"
             ],
             [
              1,
              "#f0f921"
             ]
            ],
            "type": "histogram2dcontour"
           }
          ],
          "mesh3d": [
           {
            "colorbar": {
             "outlinewidth": 0,
             "ticks": ""
            },
            "type": "mesh3d"
           }
          ],
          "parcoords": [
           {
            "line": {
             "colorbar": {
              "outlinewidth": 0,
              "ticks": ""
             }
            },
            "type": "parcoords"
           }
          ],
          "pie": [
           {
            "automargin": true,
            "type": "pie"
           }
          ],
          "scatter": [
           {
            "fillpattern": {
             "fillmode": "overlay",
             "size": 10,
             "solidity": 0.2
            },
            "type": "scatter"
           }
          ],
          "scatter3d": [
           {
            "line": {
             "colorbar": {
              "outlinewidth": 0,
              "ticks": ""
             }
            },
            "marker": {
             "colorbar": {
              "outlinewidth": 0,
              "ticks": ""
             }
            },
            "type": "scatter3d"
           }
          ],
          "scattercarpet": [
           {
            "marker": {
             "colorbar": {
              "outlinewidth": 0,
              "ticks": ""
             }
            },
            "type": "scattercarpet"
           }
          ],
          "scattergeo": [
           {
            "marker": {
             "colorbar": {
              "outlinewidth": 0,
              "ticks": ""
             }
            },
            "type": "scattergeo"
           }
          ],
          "scattergl": [
           {
            "marker": {
             "colorbar": {
              "outlinewidth": 0,
              "ticks": ""
             }
            },
            "type": "scattergl"
           }
          ],
          "scattermap": [
           {
            "marker": {
             "colorbar": {
              "outlinewidth": 0,
              "ticks": ""
             }
            },
            "type": "scattermap"
           }
          ],
          "scattermapbox": [
           {
            "marker": {
             "colorbar": {
              "outlinewidth": 0,
              "ticks": ""
             }
            },
            "type": "scattermapbox"
           }
          ],
          "scatterpolar": [
           {
            "marker": {
             "colorbar": {
              "outlinewidth": 0,
              "ticks": ""
             }
            },
            "type": "scatterpolar"
           }
          ],
          "scatterpolargl": [
           {
            "marker": {
             "colorbar": {
              "outlinewidth": 0,
              "ticks": ""
             }
            },
            "type": "scatterpolargl"
           }
          ],
          "scatterternary": [
           {
            "marker": {
             "colorbar": {
              "outlinewidth": 0,
              "ticks": ""
             }
            },
            "type": "scatterternary"
           }
          ],
          "surface": [
           {
            "colorbar": {
             "outlinewidth": 0,
             "ticks": ""
            },
            "colorscale": [
             [
              0,
              "#0d0887"
             ],
             [
              0.1111111111111111,
              "#46039f"
             ],
             [
              0.2222222222222222,
              "#7201a8"
             ],
             [
              0.3333333333333333,
              "#9c179e"
             ],
             [
              0.4444444444444444,
              "#bd3786"
             ],
             [
              0.5555555555555556,
              "#d8576b"
             ],
             [
              0.6666666666666666,
              "#ed7953"
             ],
             [
              0.7777777777777778,
              "#fb9f3a"
             ],
             [
              0.8888888888888888,
              "#fdca26"
             ],
             [
              1,
              "#f0f921"
             ]
            ],
            "type": "surface"
           }
          ],
          "table": [
           {
            "cells": {
             "fill": {
              "color": "#EBF0F8"
             },
             "line": {
              "color": "white"
             }
            },
            "header": {
             "fill": {
              "color": "#C8D4E3"
             },
             "line": {
              "color": "white"
             }
            },
            "type": "table"
           }
          ]
         },
         "layout": {
          "annotationdefaults": {
           "arrowcolor": "#2a3f5f",
           "arrowhead": 0,
           "arrowwidth": 1
          },
          "autotypenumbers": "strict",
          "coloraxis": {
           "colorbar": {
            "outlinewidth": 0,
            "ticks": ""
           }
          },
          "colorscale": {
           "diverging": [
            [
             0,
             "#8e0152"
            ],
            [
             0.1,
             "#c51b7d"
            ],
            [
             0.2,
             "#de77ae"
            ],
            [
             0.3,
             "#f1b6da"
            ],
            [
             0.4,
             "#fde0ef"
            ],
            [
             0.5,
             "#f7f7f7"
            ],
            [
             0.6,
             "#e6f5d0"
            ],
            [
             0.7,
             "#b8e186"
            ],
            [
             0.8,
             "#7fbc41"
            ],
            [
             0.9,
             "#4d9221"
            ],
            [
             1,
             "#276419"
            ]
           ],
           "sequential": [
            [
             0,
             "#0d0887"
            ],
            [
             0.1111111111111111,
             "#46039f"
            ],
            [
             0.2222222222222222,
             "#7201a8"
            ],
            [
             0.3333333333333333,
             "#9c179e"
            ],
            [
             0.4444444444444444,
             "#bd3786"
            ],
            [
             0.5555555555555556,
             "#d8576b"
            ],
            [
             0.6666666666666666,
             "#ed7953"
            ],
            [
             0.7777777777777778,
             "#fb9f3a"
            ],
            [
             0.8888888888888888,
             "#fdca26"
            ],
            [
             1,
             "#f0f921"
            ]
           ],
           "sequentialminus": [
            [
             0,
             "#0d0887"
            ],
            [
             0.1111111111111111,
             "#46039f"
            ],
            [
             0.2222222222222222,
             "#7201a8"
            ],
            [
             0.3333333333333333,
             "#9c179e"
            ],
            [
             0.4444444444444444,
             "#bd3786"
            ],
            [
             0.5555555555555556,
             "#d8576b"
            ],
            [
             0.6666666666666666,
             "#ed7953"
            ],
            [
             0.7777777777777778,
             "#fb9f3a"
            ],
            [
             0.8888888888888888,
             "#fdca26"
            ],
            [
             1,
             "#f0f921"
            ]
           ]
          },
          "colorway": [
           "#636efa",
           "#EF553B",
           "#00cc96",
           "#ab63fa",
           "#FFA15A",
           "#19d3f3",
           "#FF6692",
           "#B6E880",
           "#FF97FF",
           "#FECB52"
          ],
          "font": {
           "color": "#2a3f5f"
          },
          "geo": {
           "bgcolor": "white",
           "lakecolor": "white",
           "landcolor": "#E5ECF6",
           "showlakes": true,
           "showland": true,
           "subunitcolor": "white"
          },
          "hoverlabel": {
           "align": "left"
          },
          "hovermode": "closest",
          "mapbox": {
           "style": "light"
          },
          "paper_bgcolor": "white",
          "plot_bgcolor": "#E5ECF6",
          "polar": {
           "angularaxis": {
            "gridcolor": "white",
            "linecolor": "white",
            "ticks": ""
           },
           "bgcolor": "#E5ECF6",
           "radialaxis": {
            "gridcolor": "white",
            "linecolor": "white",
            "ticks": ""
           }
          },
          "scene": {
           "xaxis": {
            "backgroundcolor": "#E5ECF6",
            "gridcolor": "white",
            "gridwidth": 2,
            "linecolor": "white",
            "showbackground": true,
            "ticks": "",
            "zerolinecolor": "white"
           },
           "yaxis": {
            "backgroundcolor": "#E5ECF6",
            "gridcolor": "white",
            "gridwidth": 2,
            "linecolor": "white",
            "showbackground": true,
            "ticks": "",
            "zerolinecolor": "white"
           },
           "zaxis": {
            "backgroundcolor": "#E5ECF6",
            "gridcolor": "white",
            "gridwidth": 2,
            "linecolor": "white",
            "showbackground": true,
            "ticks": "",
            "zerolinecolor": "white"
           }
          },
          "shapedefaults": {
           "line": {
            "color": "#2a3f5f"
           }
          },
          "ternary": {
           "aaxis": {
            "gridcolor": "white",
            "linecolor": "white",
            "ticks": ""
           },
           "baxis": {
            "gridcolor": "white",
            "linecolor": "white",
            "ticks": ""
           },
           "bgcolor": "#E5ECF6",
           "caxis": {
            "gridcolor": "white",
            "linecolor": "white",
            "ticks": ""
           }
          },
          "title": {
           "x": 0.05
          },
          "xaxis": {
           "automargin": true,
           "gridcolor": "white",
           "linecolor": "white",
           "ticks": "",
           "title": {
            "standoff": 15
           },
           "zerolinecolor": "white",
           "zerolinewidth": 2
          },
          "yaxis": {
           "automargin": true,
           "gridcolor": "white",
           "linecolor": "white",
           "ticks": "",
           "title": {
            "standoff": 15
           },
           "zerolinecolor": "white",
           "zerolinewidth": 2
          }
         }
        },
        "title": {
         "text": "Sankey Diagram: Top Ship Types to Top Destinations"
        }
       }
      }
     },
     "metadata": {},
     "output_type": "display_data"
    }
   ],
   "source": [
    "import plotly.graph_objects as go\n",
    "import pandas as pd\n",
    "\n",
    "# Remove rows with destination \"FISHING\" and ship_type \"Other\"\n",
    "sankey_data = unique_imo_data[\n",
    "    (unique_imo_data['destination'] != 'FISHING') &\n",
    "    (unique_imo_data['ship_type'] != 'Other')\n",
    "]\n",
    "\n",
    "# Compute top 10 ship types and top 10 destination ports using the cleaned dataset\n",
    "top_ship_types = sankey_data['ship_type'].value_counts().head(5).index.tolist()\n",
    "top_destinations = sankey_data['destination'].value_counts().head(5).index.tolist()\n",
    "\n",
    "# Filter data to include only top ship types and destinations\n",
    "filtered = sankey_data[\n",
    "    sankey_data['ship_type'].isin(top_ship_types) &\n",
    "    sankey_data['destination'].isin(top_destinations)\n",
    "]\n",
    "\n",
    "# Group data by ship_type and destination\n",
    "grouped = filtered.groupby(['ship_type', 'destination']).size().reset_index(name='count')\n",
    "\n",
    "# Prepare labels and mappings for the Sankey diagram\n",
    "labels = list(top_ship_types) + list(top_destinations)\n",
    "ship_type_to_index = {ship: i for i, ship in enumerate(top_ship_types)}\n",
    "destination_to_index = {dest: i + len(top_ship_types) for i, dest in enumerate(top_destinations)}\n",
    "\n",
    "source = []\n",
    "target = []\n",
    "values = []\n",
    "for _, row in grouped.iterrows():\n",
    "    st = row['ship_type']\n",
    "    dest = row['destination']\n",
    "    if st in ship_type_to_index and dest in destination_to_index:\n",
    "        source.append(ship_type_to_index[st])\n",
    "        target.append(destination_to_index[dest])\n",
    "        values.append(row['count'])\n",
    "\n",
    "# Create and display the Sankey diagram as a path chart\n",
    "fig = go.Figure(data=[go.Sankey(\n",
    "    node=dict(\n",
    "      pad=15,\n",
    "      thickness=20,\n",
    "      line=dict(color=\"black\", width=0.5),\n",
    "      label=labels\n",
    "    ),\n",
    "    link=dict(\n",
    "      source=source,\n",
    "      target=target,\n",
    "      value=values\n",
    "    )\n",
    ")])\n",
    "fig.update_layout(title_text=\"Sankey Diagram: Top Ship Types to Top Destinations\", font_size=10)\n",
    "fig.show()\n"
   ]
  },
  {
   "cell_type": "code",
   "execution_count": 33,
   "metadata": {},
   "outputs": [
    {
     "data": {
      "application/vnd.plotly.v1+json": {
       "config": {
        "plotlyServerURL": "https://plot.ly"
       },
       "data": [
        {
         "link": {
          "color": [
           "rgba(99, 110, 250, 0.6)",
           "rgba(99, 110, 250, 0.6)",
           "rgba(99, 110, 250, 0.6)",
           "rgba(99, 110, 250, 0.6)",
           "rgba(99, 110, 250, 0.6)",
           "rgba(99, 110, 250, 0.6)",
           "rgba(99, 110, 250, 0.6)",
           "rgba(99, 110, 250, 0.6)",
           "rgba(99, 110, 250, 0.6)",
           "rgba(99, 110, 250, 0.6)",
           "rgba(99, 110, 250, 0.6)",
           "rgba(99, 110, 250, 0.6)"
          ],
          "hoverinfo": "all",
          "source": [
           0,
           0,
           0,
           0,
           0,
           3,
           2,
           2,
           1,
           1,
           1,
           1
          ],
          "target": [
           9,
           6,
           7,
           5,
           8,
           5,
           7,
           5,
           9,
           6,
           5,
           8
          ],
          "value": [
           4,
           21,
           13,
           33,
           11,
           1,
           3,
           1,
           4,
           6,
           15,
           2
          ]
         },
         "node": {
          "color": [
           "#636EFA",
           "#636EFA",
           "#636EFA",
           "#636EFA",
           "#636EFA",
           "#EF553B",
           "#EF553B",
           "#EF553B",
           "#EF553B",
           "#EF553B"
          ],
          "label": [
           "Cargo",
           "Tanker",
           "Passenger",
           "Other Type",
           "Not available (default)",
           "ROTTERDAM",
           "ANTWERP",
           "DEHAM",
           "VLISSINGEN",
           "AMSTERDAM"
          ],
          "line": {
           "color": "black",
           "width": 0.5
          },
          "pad": 15,
          "thickness": 20
         },
         "type": "sankey"
        }
       ],
       "layout": {
        "font": {
         "size": 12
        },
        "height": 600,
        "margin": {
         "b": 50,
         "l": 50,
         "r": 50,
         "t": 50
        },
        "template": {
         "data": {
          "bar": [
           {
            "error_x": {
             "color": "#2a3f5f"
            },
            "error_y": {
             "color": "#2a3f5f"
            },
            "marker": {
             "line": {
              "color": "#E5ECF6",
              "width": 0.5
             },
             "pattern": {
              "fillmode": "overlay",
              "size": 10,
              "solidity": 0.2
             }
            },
            "type": "bar"
           }
          ],
          "barpolar": [
           {
            "marker": {
             "line": {
              "color": "#E5ECF6",
              "width": 0.5
             },
             "pattern": {
              "fillmode": "overlay",
              "size": 10,
              "solidity": 0.2
             }
            },
            "type": "barpolar"
           }
          ],
          "carpet": [
           {
            "aaxis": {
             "endlinecolor": "#2a3f5f",
             "gridcolor": "white",
             "linecolor": "white",
             "minorgridcolor": "white",
             "startlinecolor": "#2a3f5f"
            },
            "baxis": {
             "endlinecolor": "#2a3f5f",
             "gridcolor": "white",
             "linecolor": "white",
             "minorgridcolor": "white",
             "startlinecolor": "#2a3f5f"
            },
            "type": "carpet"
           }
          ],
          "choropleth": [
           {
            "colorbar": {
             "outlinewidth": 0,
             "ticks": ""
            },
            "type": "choropleth"
           }
          ],
          "contour": [
           {
            "colorbar": {
             "outlinewidth": 0,
             "ticks": ""
            },
            "colorscale": [
             [
              0,
              "#0d0887"
             ],
             [
              0.1111111111111111,
              "#46039f"
             ],
             [
              0.2222222222222222,
              "#7201a8"
             ],
             [
              0.3333333333333333,
              "#9c179e"
             ],
             [
              0.4444444444444444,
              "#bd3786"
             ],
             [
              0.5555555555555556,
              "#d8576b"
             ],
             [
              0.6666666666666666,
              "#ed7953"
             ],
             [
              0.7777777777777778,
              "#fb9f3a"
             ],
             [
              0.8888888888888888,
              "#fdca26"
             ],
             [
              1,
              "#f0f921"
             ]
            ],
            "type": "contour"
           }
          ],
          "contourcarpet": [
           {
            "colorbar": {
             "outlinewidth": 0,
             "ticks": ""
            },
            "type": "contourcarpet"
           }
          ],
          "heatmap": [
           {
            "colorbar": {
             "outlinewidth": 0,
             "ticks": ""
            },
            "colorscale": [
             [
              0,
              "#0d0887"
             ],
             [
              0.1111111111111111,
              "#46039f"
             ],
             [
              0.2222222222222222,
              "#7201a8"
             ],
             [
              0.3333333333333333,
              "#9c179e"
             ],
             [
              0.4444444444444444,
              "#bd3786"
             ],
             [
              0.5555555555555556,
              "#d8576b"
             ],
             [
              0.6666666666666666,
              "#ed7953"
             ],
             [
              0.7777777777777778,
              "#fb9f3a"
             ],
             [
              0.8888888888888888,
              "#fdca26"
             ],
             [
              1,
              "#f0f921"
             ]
            ],
            "type": "heatmap"
           }
          ],
          "histogram": [
           {
            "marker": {
             "pattern": {
              "fillmode": "overlay",
              "size": 10,
              "solidity": 0.2
             }
            },
            "type": "histogram"
           }
          ],
          "histogram2d": [
           {
            "colorbar": {
             "outlinewidth": 0,
             "ticks": ""
            },
            "colorscale": [
             [
              0,
              "#0d0887"
             ],
             [
              0.1111111111111111,
              "#46039f"
             ],
             [
              0.2222222222222222,
              "#7201a8"
             ],
             [
              0.3333333333333333,
              "#9c179e"
             ],
             [
              0.4444444444444444,
              "#bd3786"
             ],
             [
              0.5555555555555556,
              "#d8576b"
             ],
             [
              0.6666666666666666,
              "#ed7953"
             ],
             [
              0.7777777777777778,
              "#fb9f3a"
             ],
             [
              0.8888888888888888,
              "#fdca26"
             ],
             [
              1,
              "#f0f921"
             ]
            ],
            "type": "histogram2d"
           }
          ],
          "histogram2dcontour": [
           {
            "colorbar": {
             "outlinewidth": 0,
             "ticks": ""
            },
            "colorscale": [
             [
              0,
              "#0d0887"
             ],
             [
              0.1111111111111111,
              "#46039f"
             ],
             [
              0.2222222222222222,
              "#7201a8"
             ],
             [
              0.3333333333333333,
              "#9c179e"
             ],
             [
              0.4444444444444444,
              "#bd3786"
             ],
             [
              0.5555555555555556,
              "#d8576b"
             ],
             [
              0.6666666666666666,
              "#ed7953"
             ],
             [
              0.7777777777777778,
              "#fb9f3a"
             ],
             [
              0.8888888888888888,
              "#fdca26"
             ],
             [
              1,
              "#f0f921"
             ]
            ],
            "type": "histogram2dcontour"
           }
          ],
          "mesh3d": [
           {
            "colorbar": {
             "outlinewidth": 0,
             "ticks": ""
            },
            "type": "mesh3d"
           }
          ],
          "parcoords": [
           {
            "line": {
             "colorbar": {
              "outlinewidth": 0,
              "ticks": ""
             }
            },
            "type": "parcoords"
           }
          ],
          "pie": [
           {
            "automargin": true,
            "type": "pie"
           }
          ],
          "scatter": [
           {
            "fillpattern": {
             "fillmode": "overlay",
             "size": 10,
             "solidity": 0.2
            },
            "type": "scatter"
           }
          ],
          "scatter3d": [
           {
            "line": {
             "colorbar": {
              "outlinewidth": 0,
              "ticks": ""
             }
            },
            "marker": {
             "colorbar": {
              "outlinewidth": 0,
              "ticks": ""
             }
            },
            "type": "scatter3d"
           }
          ],
          "scattercarpet": [
           {
            "marker": {
             "colorbar": {
              "outlinewidth": 0,
              "ticks": ""
             }
            },
            "type": "scattercarpet"
           }
          ],
          "scattergeo": [
           {
            "marker": {
             "colorbar": {
              "outlinewidth": 0,
              "ticks": ""
             }
            },
            "type": "scattergeo"
           }
          ],
          "scattergl": [
           {
            "marker": {
             "colorbar": {
              "outlinewidth": 0,
              "ticks": ""
             }
            },
            "type": "scattergl"
           }
          ],
          "scattermap": [
           {
            "marker": {
             "colorbar": {
              "outlinewidth": 0,
              "ticks": ""
             }
            },
            "type": "scattermap"
           }
          ],
          "scattermapbox": [
           {
            "marker": {
             "colorbar": {
              "outlinewidth": 0,
              "ticks": ""
             }
            },
            "type": "scattermapbox"
           }
          ],
          "scatterpolar": [
           {
            "marker": {
             "colorbar": {
              "outlinewidth": 0,
              "ticks": ""
             }
            },
            "type": "scatterpolar"
           }
          ],
          "scatterpolargl": [
           {
            "marker": {
             "colorbar": {
              "outlinewidth": 0,
              "ticks": ""
             }
            },
            "type": "scatterpolargl"
           }
          ],
          "scatterternary": [
           {
            "marker": {
             "colorbar": {
              "outlinewidth": 0,
              "ticks": ""
             }
            },
            "type": "scatterternary"
           }
          ],
          "surface": [
           {
            "colorbar": {
             "outlinewidth": 0,
             "ticks": ""
            },
            "colorscale": [
             [
              0,
              "#0d0887"
             ],
             [
              0.1111111111111111,
              "#46039f"
             ],
             [
              0.2222222222222222,
              "#7201a8"
             ],
             [
              0.3333333333333333,
              "#9c179e"
             ],
             [
              0.4444444444444444,
              "#bd3786"
             ],
             [
              0.5555555555555556,
              "#d8576b"
             ],
             [
              0.6666666666666666,
              "#ed7953"
             ],
             [
              0.7777777777777778,
              "#fb9f3a"
             ],
             [
              0.8888888888888888,
              "#fdca26"
             ],
             [
              1,
              "#f0f921"
             ]
            ],
            "type": "surface"
           }
          ],
          "table": [
           {
            "cells": {
             "fill": {
              "color": "#EBF0F8"
             },
             "line": {
              "color": "white"
             }
            },
            "header": {
             "fill": {
              "color": "#C8D4E3"
             },
             "line": {
              "color": "white"
             }
            },
            "type": "table"
           }
          ]
         },
         "layout": {
          "annotationdefaults": {
           "arrowcolor": "#2a3f5f",
           "arrowhead": 0,
           "arrowwidth": 1
          },
          "autotypenumbers": "strict",
          "coloraxis": {
           "colorbar": {
            "outlinewidth": 0,
            "ticks": ""
           }
          },
          "colorscale": {
           "diverging": [
            [
             0,
             "#8e0152"
            ],
            [
             0.1,
             "#c51b7d"
            ],
            [
             0.2,
             "#de77ae"
            ],
            [
             0.3,
             "#f1b6da"
            ],
            [
             0.4,
             "#fde0ef"
            ],
            [
             0.5,
             "#f7f7f7"
            ],
            [
             0.6,
             "#e6f5d0"
            ],
            [
             0.7,
             "#b8e186"
            ],
            [
             0.8,
             "#7fbc41"
            ],
            [
             0.9,
             "#4d9221"
            ],
            [
             1,
             "#276419"
            ]
           ],
           "sequential": [
            [
             0,
             "#0d0887"
            ],
            [
             0.1111111111111111,
             "#46039f"
            ],
            [
             0.2222222222222222,
             "#7201a8"
            ],
            [
             0.3333333333333333,
             "#9c179e"
            ],
            [
             0.4444444444444444,
             "#bd3786"
            ],
            [
             0.5555555555555556,
             "#d8576b"
            ],
            [
             0.6666666666666666,
             "#ed7953"
            ],
            [
             0.7777777777777778,
             "#fb9f3a"
            ],
            [
             0.8888888888888888,
             "#fdca26"
            ],
            [
             1,
             "#f0f921"
            ]
           ],
           "sequentialminus": [
            [
             0,
             "#0d0887"
            ],
            [
             0.1111111111111111,
             "#46039f"
            ],
            [
             0.2222222222222222,
             "#7201a8"
            ],
            [
             0.3333333333333333,
             "#9c179e"
            ],
            [
             0.4444444444444444,
             "#bd3786"
            ],
            [
             0.5555555555555556,
             "#d8576b"
            ],
            [
             0.6666666666666666,
             "#ed7953"
            ],
            [
             0.7777777777777778,
             "#fb9f3a"
            ],
            [
             0.8888888888888888,
             "#fdca26"
            ],
            [
             1,
             "#f0f921"
            ]
           ]
          },
          "colorway": [
           "#636efa",
           "#EF553B",
           "#00cc96",
           "#ab63fa",
           "#FFA15A",
           "#19d3f3",
           "#FF6692",
           "#B6E880",
           "#FF97FF",
           "#FECB52"
          ],
          "font": {
           "color": "#2a3f5f"
          },
          "geo": {
           "bgcolor": "white",
           "lakecolor": "white",
           "landcolor": "#E5ECF6",
           "showlakes": true,
           "showland": true,
           "subunitcolor": "white"
          },
          "hoverlabel": {
           "align": "left"
          },
          "hovermode": "closest",
          "mapbox": {
           "style": "light"
          },
          "paper_bgcolor": "white",
          "plot_bgcolor": "#E5ECF6",
          "polar": {
           "angularaxis": {
            "gridcolor": "white",
            "linecolor": "white",
            "ticks": ""
           },
           "bgcolor": "#E5ECF6",
           "radialaxis": {
            "gridcolor": "white",
            "linecolor": "white",
            "ticks": ""
           }
          },
          "scene": {
           "xaxis": {
            "backgroundcolor": "#E5ECF6",
            "gridcolor": "white",
            "gridwidth": 2,
            "linecolor": "white",
            "showbackground": true,
            "ticks": "",
            "zerolinecolor": "white"
           },
           "yaxis": {
            "backgroundcolor": "#E5ECF6",
            "gridcolor": "white",
            "gridwidth": 2,
            "linecolor": "white",
            "showbackground": true,
            "ticks": "",
            "zerolinecolor": "white"
           },
           "zaxis": {
            "backgroundcolor": "#E5ECF6",
            "gridcolor": "white",
            "gridwidth": 2,
            "linecolor": "white",
            "showbackground": true,
            "ticks": "",
            "zerolinecolor": "white"
           }
          },
          "shapedefaults": {
           "line": {
            "color": "#2a3f5f"
           }
          },
          "ternary": {
           "aaxis": {
            "gridcolor": "white",
            "linecolor": "white",
            "ticks": ""
           },
           "baxis": {
            "gridcolor": "white",
            "linecolor": "white",
            "ticks": ""
           },
           "bgcolor": "#E5ECF6",
           "caxis": {
            "gridcolor": "white",
            "linecolor": "white",
            "ticks": ""
           }
          },
          "title": {
           "x": 0.05
          },
          "xaxis": {
           "automargin": true,
           "gridcolor": "white",
           "linecolor": "white",
           "ticks": "",
           "title": {
            "standoff": 15
           },
           "zerolinecolor": "white",
           "zerolinewidth": 2
          },
          "yaxis": {
           "automargin": true,
           "gridcolor": "white",
           "linecolor": "white",
           "ticks": "",
           "title": {
            "standoff": 15
           },
           "zerolinecolor": "white",
           "zerolinewidth": 2
          }
         }
        },
        "title": {
         "font": {
          "size": 16
         },
         "text": "Enhanced Sankey Diagram: Scrubber-Fitted Ships",
         "x": 0.5
        }
       }
      }
     },
     "metadata": {},
     "output_type": "display_data"
    },
    {
     "data": {
      "application/vnd.plotly.v1+json": {
       "config": {
        "plotlyServerURL": "https://plot.ly"
       },
       "data": [
        {
         "link": {
          "color": [
           "rgba(99, 110, 250, 0.6)",
           "rgba(99, 110, 250, 0.6)",
           "rgba(99, 110, 250, 0.6)",
           "rgba(99, 110, 250, 0.6)",
           "rgba(99, 110, 250, 0.6)",
           "rgba(99, 110, 250, 0.6)",
           "rgba(99, 110, 250, 0.6)",
           "rgba(99, 110, 250, 0.6)",
           "rgba(99, 110, 250, 0.6)",
           "rgba(99, 110, 250, 0.6)",
           "rgba(99, 110, 250, 0.6)",
           "rgba(99, 110, 250, 0.6)",
           "rgba(99, 110, 250, 0.6)",
           "rgba(99, 110, 250, 0.6)",
           "rgba(99, 110, 250, 0.6)",
           "rgba(99, 110, 250, 0.6)",
           "rgba(99, 110, 250, 0.6)",
           "rgba(99, 110, 250, 0.6)"
          ],
          "hoverinfo": "all",
          "source": [
           0,
           0,
           0,
           0,
           2,
           3,
           3,
           3,
           3,
           3,
           1,
           1,
           1,
           1,
           4,
           4,
           4,
           4
          ],
          "target": [
           8,
           6,
           9,
           5,
           7,
           8,
           6,
           9,
           7,
           5,
           8,
           6,
           9,
           5,
           8,
           6,
           9,
           5
          ],
          "value": [
           42,
           108,
           56,
           129,
           105,
           5,
           3,
           1,
           1,
           21,
           31,
           83,
           11,
           152,
           4,
           6,
           7,
           36
          ]
         },
         "node": {
          "color": [
           "#636EFA",
           "#636EFA",
           "#636EFA",
           "#636EFA",
           "#636EFA",
           "#EF553B",
           "#EF553B",
           "#EF553B",
           "#EF553B",
           "#EF553B"
          ],
          "label": [
           "Cargo",
           "Tanker",
           "Fishing",
           "Other Type",
           "Tug",
           "ROTTERDAM",
           "ANTWERP",
           "FISHING",
           "AMSTERDAM",
           "DEHAM"
          ],
          "line": {
           "color": "black",
           "width": 0.5
          },
          "pad": 15,
          "thickness": 20
         },
         "type": "sankey"
        }
       ],
       "layout": {
        "font": {
         "size": 12
        },
        "height": 600,
        "margin": {
         "b": 50,
         "l": 50,
         "r": 50,
         "t": 50
        },
        "template": {
         "data": {
          "bar": [
           {
            "error_x": {
             "color": "#2a3f5f"
            },
            "error_y": {
             "color": "#2a3f5f"
            },
            "marker": {
             "line": {
              "color": "#E5ECF6",
              "width": 0.5
             },
             "pattern": {
              "fillmode": "overlay",
              "size": 10,
              "solidity": 0.2
             }
            },
            "type": "bar"
           }
          ],
          "barpolar": [
           {
            "marker": {
             "line": {
              "color": "#E5ECF6",
              "width": 0.5
             },
             "pattern": {
              "fillmode": "overlay",
              "size": 10,
              "solidity": 0.2
             }
            },
            "type": "barpolar"
           }
          ],
          "carpet": [
           {
            "aaxis": {
             "endlinecolor": "#2a3f5f",
             "gridcolor": "white",
             "linecolor": "white",
             "minorgridcolor": "white",
             "startlinecolor": "#2a3f5f"
            },
            "baxis": {
             "endlinecolor": "#2a3f5f",
             "gridcolor": "white",
             "linecolor": "white",
             "minorgridcolor": "white",
             "startlinecolor": "#2a3f5f"
            },
            "type": "carpet"
           }
          ],
          "choropleth": [
           {
            "colorbar": {
             "outlinewidth": 0,
             "ticks": ""
            },
            "type": "choropleth"
           }
          ],
          "contour": [
           {
            "colorbar": {
             "outlinewidth": 0,
             "ticks": ""
            },
            "colorscale": [
             [
              0,
              "#0d0887"
             ],
             [
              0.1111111111111111,
              "#46039f"
             ],
             [
              0.2222222222222222,
              "#7201a8"
             ],
             [
              0.3333333333333333,
              "#9c179e"
             ],
             [
              0.4444444444444444,
              "#bd3786"
             ],
             [
              0.5555555555555556,
              "#d8576b"
             ],
             [
              0.6666666666666666,
              "#ed7953"
             ],
             [
              0.7777777777777778,
              "#fb9f3a"
             ],
             [
              0.8888888888888888,
              "#fdca26"
             ],
             [
              1,
              "#f0f921"
             ]
            ],
            "type": "contour"
           }
          ],
          "contourcarpet": [
           {
            "colorbar": {
             "outlinewidth": 0,
             "ticks": ""
            },
            "type": "contourcarpet"
           }
          ],
          "heatmap": [
           {
            "colorbar": {
             "outlinewidth": 0,
             "ticks": ""
            },
            "colorscale": [
             [
              0,
              "#0d0887"
             ],
             [
              0.1111111111111111,
              "#46039f"
             ],
             [
              0.2222222222222222,
              "#7201a8"
             ],
             [
              0.3333333333333333,
              "#9c179e"
             ],
             [
              0.4444444444444444,
              "#bd3786"
             ],
             [
              0.5555555555555556,
              "#d8576b"
             ],
             [
              0.6666666666666666,
              "#ed7953"
             ],
             [
              0.7777777777777778,
              "#fb9f3a"
             ],
             [
              0.8888888888888888,
              "#fdca26"
             ],
             [
              1,
              "#f0f921"
             ]
            ],
            "type": "heatmap"
           }
          ],
          "histogram": [
           {
            "marker": {
             "pattern": {
              "fillmode": "overlay",
              "size": 10,
              "solidity": 0.2
             }
            },
            "type": "histogram"
           }
          ],
          "histogram2d": [
           {
            "colorbar": {
             "outlinewidth": 0,
             "ticks": ""
            },
            "colorscale": [
             [
              0,
              "#0d0887"
             ],
             [
              0.1111111111111111,
              "#46039f"
             ],
             [
              0.2222222222222222,
              "#7201a8"
             ],
             [
              0.3333333333333333,
              "#9c179e"
             ],
             [
              0.4444444444444444,
              "#bd3786"
             ],
             [
              0.5555555555555556,
              "#d8576b"
             ],
             [
              0.6666666666666666,
              "#ed7953"
             ],
             [
              0.7777777777777778,
              "#fb9f3a"
             ],
             [
              0.8888888888888888,
              "#fdca26"
             ],
             [
              1,
              "#f0f921"
             ]
            ],
            "type": "histogram2d"
           }
          ],
          "histogram2dcontour": [
           {
            "colorbar": {
             "outlinewidth": 0,
             "ticks": ""
            },
            "colorscale": [
             [
              0,
              "#0d0887"
             ],
             [
              0.1111111111111111,
              "#46039f"
             ],
             [
              0.2222222222222222,
              "#7201a8"
             ],
             [
              0.3333333333333333,
              "#9c179e"
             ],
             [
              0.4444444444444444,
              "#bd3786"
             ],
             [
              0.5555555555555556,
              "#d8576b"
             ],
             [
              0.6666666666666666,
              "#ed7953"
             ],
             [
              0.7777777777777778,
              "#fb9f3a"
             ],
             [
              0.8888888888888888,
              "#fdca26"
             ],
             [
              1,
              "#f0f921"
             ]
            ],
            "type": "histogram2dcontour"
           }
          ],
          "mesh3d": [
           {
            "colorbar": {
             "outlinewidth": 0,
             "ticks": ""
            },
            "type": "mesh3d"
           }
          ],
          "parcoords": [
           {
            "line": {
             "colorbar": {
              "outlinewidth": 0,
              "ticks": ""
             }
            },
            "type": "parcoords"
           }
          ],
          "pie": [
           {
            "automargin": true,
            "type": "pie"
           }
          ],
          "scatter": [
           {
            "fillpattern": {
             "fillmode": "overlay",
             "size": 10,
             "solidity": 0.2
            },
            "type": "scatter"
           }
          ],
          "scatter3d": [
           {
            "line": {
             "colorbar": {
              "outlinewidth": 0,
              "ticks": ""
             }
            },
            "marker": {
             "colorbar": {
              "outlinewidth": 0,
              "ticks": ""
             }
            },
            "type": "scatter3d"
           }
          ],
          "scattercarpet": [
           {
            "marker": {
             "colorbar": {
              "outlinewidth": 0,
              "ticks": ""
             }
            },
            "type": "scattercarpet"
           }
          ],
          "scattergeo": [
           {
            "marker": {
             "colorbar": {
              "outlinewidth": 0,
              "ticks": ""
             }
            },
            "type": "scattergeo"
           }
          ],
          "scattergl": [
           {
            "marker": {
             "colorbar": {
              "outlinewidth": 0,
              "ticks": ""
             }
            },
            "type": "scattergl"
           }
          ],
          "scattermap": [
           {
            "marker": {
             "colorbar": {
              "outlinewidth": 0,
              "ticks": ""
             }
            },
            "type": "scattermap"
           }
          ],
          "scattermapbox": [
           {
            "marker": {
             "colorbar": {
              "outlinewidth": 0,
              "ticks": ""
             }
            },
            "type": "scattermapbox"
           }
          ],
          "scatterpolar": [
           {
            "marker": {
             "colorbar": {
              "outlinewidth": 0,
              "ticks": ""
             }
            },
            "type": "scatterpolar"
           }
          ],
          "scatterpolargl": [
           {
            "marker": {
             "colorbar": {
              "outlinewidth": 0,
              "ticks": ""
             }
            },
            "type": "scatterpolargl"
           }
          ],
          "scatterternary": [
           {
            "marker": {
             "colorbar": {
              "outlinewidth": 0,
              "ticks": ""
             }
            },
            "type": "scatterternary"
           }
          ],
          "surface": [
           {
            "colorbar": {
             "outlinewidth": 0,
             "ticks": ""
            },
            "colorscale": [
             [
              0,
              "#0d0887"
             ],
             [
              0.1111111111111111,
              "#46039f"
             ],
             [
              0.2222222222222222,
              "#7201a8"
             ],
             [
              0.3333333333333333,
              "#9c179e"
             ],
             [
              0.4444444444444444,
              "#bd3786"
             ],
             [
              0.5555555555555556,
              "#d8576b"
             ],
             [
              0.6666666666666666,
              "#ed7953"
             ],
             [
              0.7777777777777778,
              "#fb9f3a"
             ],
             [
              0.8888888888888888,
              "#fdca26"
             ],
             [
              1,
              "#f0f921"
             ]
            ],
            "type": "surface"
           }
          ],
          "table": [
           {
            "cells": {
             "fill": {
              "color": "#EBF0F8"
             },
             "line": {
              "color": "white"
             }
            },
            "header": {
             "fill": {
              "color": "#C8D4E3"
             },
             "line": {
              "color": "white"
             }
            },
            "type": "table"
           }
          ]
         },
         "layout": {
          "annotationdefaults": {
           "arrowcolor": "#2a3f5f",
           "arrowhead": 0,
           "arrowwidth": 1
          },
          "autotypenumbers": "strict",
          "coloraxis": {
           "colorbar": {
            "outlinewidth": 0,
            "ticks": ""
           }
          },
          "colorscale": {
           "diverging": [
            [
             0,
             "#8e0152"
            ],
            [
             0.1,
             "#c51b7d"
            ],
            [
             0.2,
             "#de77ae"
            ],
            [
             0.3,
             "#f1b6da"
            ],
            [
             0.4,
             "#fde0ef"
            ],
            [
             0.5,
             "#f7f7f7"
            ],
            [
             0.6,
             "#e6f5d0"
            ],
            [
             0.7,
             "#b8e186"
            ],
            [
             0.8,
             "#7fbc41"
            ],
            [
             0.9,
             "#4d9221"
            ],
            [
             1,
             "#276419"
            ]
           ],
           "sequential": [
            [
             0,
             "#0d0887"
            ],
            [
             0.1111111111111111,
             "#46039f"
            ],
            [
             0.2222222222222222,
             "#7201a8"
            ],
            [
             0.3333333333333333,
             "#9c179e"
            ],
            [
             0.4444444444444444,
             "#bd3786"
            ],
            [
             0.5555555555555556,
             "#d8576b"
            ],
            [
             0.6666666666666666,
             "#ed7953"
            ],
            [
             0.7777777777777778,
             "#fb9f3a"
            ],
            [
             0.8888888888888888,
             "#fdca26"
            ],
            [
             1,
             "#f0f921"
            ]
           ],
           "sequentialminus": [
            [
             0,
             "#0d0887"
            ],
            [
             0.1111111111111111,
             "#46039f"
            ],
            [
             0.2222222222222222,
             "#7201a8"
            ],
            [
             0.3333333333333333,
             "#9c179e"
            ],
            [
             0.4444444444444444,
             "#bd3786"
            ],
            [
             0.5555555555555556,
             "#d8576b"
            ],
            [
             0.6666666666666666,
             "#ed7953"
            ],
            [
             0.7777777777777778,
             "#fb9f3a"
            ],
            [
             0.8888888888888888,
             "#fdca26"
            ],
            [
             1,
             "#f0f921"
            ]
           ]
          },
          "colorway": [
           "#636efa",
           "#EF553B",
           "#00cc96",
           "#ab63fa",
           "#FFA15A",
           "#19d3f3",
           "#FF6692",
           "#B6E880",
           "#FF97FF",
           "#FECB52"
          ],
          "font": {
           "color": "#2a3f5f"
          },
          "geo": {
           "bgcolor": "white",
           "lakecolor": "white",
           "landcolor": "#E5ECF6",
           "showlakes": true,
           "showland": true,
           "subunitcolor": "white"
          },
          "hoverlabel": {
           "align": "left"
          },
          "hovermode": "closest",
          "mapbox": {
           "style": "light"
          },
          "paper_bgcolor": "white",
          "plot_bgcolor": "#E5ECF6",
          "polar": {
           "angularaxis": {
            "gridcolor": "white",
            "linecolor": "white",
            "ticks": ""
           },
           "bgcolor": "#E5ECF6",
           "radialaxis": {
            "gridcolor": "white",
            "linecolor": "white",
            "ticks": ""
           }
          },
          "scene": {
           "xaxis": {
            "backgroundcolor": "#E5ECF6",
            "gridcolor": "white",
            "gridwidth": 2,
            "linecolor": "white",
            "showbackground": true,
            "ticks": "",
            "zerolinecolor": "white"
           },
           "yaxis": {
            "backgroundcolor": "#E5ECF6",
            "gridcolor": "white",
            "gridwidth": 2,
            "linecolor": "white",
            "showbackground": true,
            "ticks": "",
            "zerolinecolor": "white"
           },
           "zaxis": {
            "backgroundcolor": "#E5ECF6",
            "gridcolor": "white",
            "gridwidth": 2,
            "linecolor": "white",
            "showbackground": true,
            "ticks": "",
            "zerolinecolor": "white"
           }
          },
          "shapedefaults": {
           "line": {
            "color": "#2a3f5f"
           }
          },
          "ternary": {
           "aaxis": {
            "gridcolor": "white",
            "linecolor": "white",
            "ticks": ""
           },
           "baxis": {
            "gridcolor": "white",
            "linecolor": "white",
            "ticks": ""
           },
           "bgcolor": "#E5ECF6",
           "caxis": {
            "gridcolor": "white",
            "linecolor": "white",
            "ticks": ""
           }
          },
          "title": {
           "x": 0.05
          },
          "xaxis": {
           "automargin": true,
           "gridcolor": "white",
           "linecolor": "white",
           "ticks": "",
           "title": {
            "standoff": 15
           },
           "zerolinecolor": "white",
           "zerolinewidth": 2
          },
          "yaxis": {
           "automargin": true,
           "gridcolor": "white",
           "linecolor": "white",
           "ticks": "",
           "title": {
            "standoff": 15
           },
           "zerolinecolor": "white",
           "zerolinewidth": 2
          }
         }
        },
        "title": {
         "font": {
          "size": 16
         },
         "text": "Enhanced Sankey Diagram: Non-Scrubber-Fitted Ships",
         "x": 0.5
        }
       }
      }
     },
     "metadata": {},
     "output_type": "display_data"
    }
   ],
   "source": [
    "import pandas as pd\n",
    "import plotly.graph_objects as go\n",
    "\n",
    "# Load scrubber data\n",
    "scrubber_data = pd.read_csv('one_time_input/csvs/icct_scrubber_march_2025.csv')\n",
    "\n",
    "# Merge scrubber data with unique_imo_data\n",
    "unique_imo_data = unique_imo_data.merge(scrubber_data[['IMO Number', 'SOx Scrubber Status']])\n",
    "\n",
    "# Add a column to indicate scrubber status\n",
    "unique_imo_data['Scrubber Status'] = unique_imo_data['SOx Scrubber Status'].fillna('Non-Scrubber')\n",
    "\n",
    "# Separate data into scrubber-fitted and non-scrubber-fitted ships\n",
    "scrubber_fitted = unique_imo_data[unique_imo_data['Scrubber Status'] == 'Fitted']\n",
    "non_scrubber_fitted = unique_imo_data[unique_imo_data['Scrubber Status'] == 'Non-Scrubber']\n",
    "\n",
    "# Function to create enhanced Sankey diagram\n",
    "def create_sankey(data, title):\n",
    "    top_ship_types = data['ship_type'].value_counts().head(5).index.tolist()\n",
    "    top_destinations = data['destination'].value_counts().head(5).index.tolist()\n",
    "\n",
    "    filtered = data[data['ship_type'].isin(top_ship_types) & data['destination'].isin(top_destinations)]\n",
    "    grouped = filtered.groupby(['ship_type', 'destination']).size().reset_index(name='count')\n",
    "\n",
    "    labels = list(top_ship_types) + list(top_destinations)\n",
    "    ship_type_to_index = {ship: i for i, ship in enumerate(top_ship_types)}\n",
    "    destination_to_index = {dest: i + len(top_ship_types) for i, dest in enumerate(top_destinations)}\n",
    "\n",
    "    source = []\n",
    "    target = []\n",
    "    values = []\n",
    "    for _, row in grouped.iterrows():\n",
    "        st = row['ship_type']\n",
    "        dest = row['destination']\n",
    "        if st in ship_type_to_index and dest in destination_to_index:\n",
    "            source.append(ship_type_to_index[st])\n",
    "            target.append(destination_to_index[dest])\n",
    "            values.append(row['count'])\n",
    "\n",
    "    # Define colors for nodes and links\n",
    "    node_colors = [\"#636EFA\"] * len(top_ship_types) + [\"#EF553B\"] * len(top_destinations)\n",
    "    link_colors = [\"rgba(99, 110, 250, 0.6)\"] * len(source)\n",
    "\n",
    "    fig = go.Figure(data=[go.Sankey(\n",
    "        node=dict(\n",
    "            pad=15,\n",
    "            thickness=20,\n",
    "            line=dict(color='black', width=0.5),\n",
    "            label=labels,\n",
    "            color=node_colors\n",
    "        ),\n",
    "        link=dict(\n",
    "            source=source,\n",
    "            target=target,\n",
    "            value=values,\n",
    "            color=link_colors,\n",
    "            hoverinfo=\"all\"  # Updated to a valid value\n",
    "        )\n",
    "    )])\n",
    "\n",
    "    # Update layout for better readability\n",
    "    fig.update_layout(\n",
    "        title_text=title,\n",
    "        font_size=12,\n",
    "        title_font_size=16,\n",
    "        title_x=0.5,\n",
    "        margin=dict(l=50, r=50, t=50, b=50),\n",
    "        height=600\n",
    "    )\n",
    "    fig.show()\n",
    "\n",
    "# Create enhanced Sankey diagrams\n",
    "create_sankey(scrubber_fitted, 'Enhanced Sankey Diagram: Scrubber-Fitted Ships')\n",
    "create_sankey(non_scrubber_fitted, 'Enhanced Sankey Diagram: Non-Scrubber-Fitted Ships')"
   ]
  },
  {
   "cell_type": "code",
   "execution_count": null,
   "metadata": {},
   "outputs": [],
   "source": []
  },
  {
   "cell_type": "code",
   "execution_count": null,
   "metadata": {},
   "outputs": [],
   "source": [
    "# SQL query to remove duplicate ship records based on key fields, keeps the oldest one\n",
    "'''\n",
    "DELETE FROM public.ship_data AS s\n",
    "USING (\n",
    "    SELECT id, \n",
    "           ROW_NUMBER() OVER (\n",
    "               PARTITION BY imo_number, timestamp_ais, latitude, longitude, destination, sog, cog, \n",
    "                            navigational_status, rate_of_turn\n",
    "               ORDER BY timestamp_collected ASC\n",
    "           ) AS row_num\n",
    "    FROM public.ship_data\n",
    ") AS duplicates\n",
    "WHERE s.id = duplicates.id AND duplicates.row_num > 1;\n",
    "'''"
   ]
  }
 ],
 "metadata": {
  "kernelspec": {
   "display_name": "base",
   "language": "python",
   "name": "python3"
  },
  "language_info": {
   "codemirror_mode": {
    "name": "ipython",
    "version": 3
   },
   "file_extension": ".py",
   "mimetype": "text/x-python",
   "name": "python",
   "nbconvert_exporter": "python",
   "pygments_lexer": "ipython3",
   "version": "3.12.2"
  }
 },
 "nbformat": 4,
 "nbformat_minor": 2
}
